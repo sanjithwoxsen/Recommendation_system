{
 "cells": [
  {
   "cell_type": "code",
   "execution_count": 1,
   "id": "2da0ed85-1ba5-45bd-92c0-60d100b45138",
   "metadata": {
    "ExecuteTime": {
     "end_time": "2023-11-03T10:54:37.572802Z",
     "start_time": "2023-11-03T10:54:37.570120Z"
    }
   },
   "outputs": [],
   "source": [
    "#Recommendation Systems"
   ]
  },
  {
   "cell_type": "code",
   "execution_count": 3,
   "id": "9f1ea1c2-528b-4e08-abb9-c98171679499",
   "metadata": {
    "ExecuteTime": {
     "end_time": "2023-11-02T07:27:39.675428Z",
     "start_time": "2023-11-02T07:27:39.545276Z"
    }
   },
   "outputs": [],
   "source": [
    "import pandas as pd\n",
    "import numpy as np\n",
    "import matplotlib.pyplot as plt\n",
    "import seaborn as sns"
   ]
  },
  {
   "cell_type": "code",
   "execution_count": 4,
   "id": "94e8b6a8-a781-4198-8a87-5ea713179ccf",
   "metadata": {
    "ExecuteTime": {
     "end_time": "2023-11-02T07:27:40.980604Z",
     "start_time": "2023-11-02T07:27:39.546444Z"
    }
   },
   "outputs": [],
   "source": [
    "def on_bad_lines(bad_line):\n",
    "    # Ignore bad lines\n",
    "    pass\n",
    "\n",
    "books = pd.read_csv(\"data/BX-Books.csv\", sep=\";\", on_bad_lines=on_bad_lines, engine=\"python\", encoding=\"latin-1\")"
   ]
  },
  {
   "cell_type": "code",
   "execution_count": 5,
   "id": "ffa33dae-07ce-4218-97a9-0a0158fc68d8",
   "metadata": {
    "ExecuteTime": {
     "end_time": "2023-11-02T07:27:40.991749Z",
     "start_time": "2023-11-02T07:27:40.982583Z"
    }
   },
   "outputs": [
    {
     "data": {
      "text/plain": "         ISBN                                         Book-Title  \\\n0  0195153448                                Classical Mythology   \n1  0002005018                                       Clara Callan   \n2  0060973129                               Decision in Normandy   \n3  0374157065  Flu: The Story of the Great Influenza Pandemic...   \n4  0393045218                             The Mummies of Urumchi   \n\n            Book-Author  Year-Of-Publication                   Publisher  \\\n0    Mark P. O. Morford                 2002     Oxford University Press   \n1  Richard Bruce Wright                 2001       HarperFlamingo Canada   \n2          Carlo D'Este                 1991             HarperPerennial   \n3      Gina Bari Kolata                 1999        Farrar Straus Giroux   \n4       E. J. W. Barber                 1999  W. W. Norton &amp; Company   \n\n                                         Image-URL-S  \\\n0  http://images.amazon.com/images/P/0195153448.0...   \n1  http://images.amazon.com/images/P/0002005018.0...   \n2  http://images.amazon.com/images/P/0060973129.0...   \n3  http://images.amazon.com/images/P/0374157065.0...   \n4  http://images.amazon.com/images/P/0393045218.0...   \n\n                                         Image-URL-M  \\\n0  http://images.amazon.com/images/P/0195153448.0...   \n1  http://images.amazon.com/images/P/0002005018.0...   \n2  http://images.amazon.com/images/P/0060973129.0...   \n3  http://images.amazon.com/images/P/0374157065.0...   \n4  http://images.amazon.com/images/P/0393045218.0...   \n\n                                         Image-URL-L  \n0  http://images.amazon.com/images/P/0195153448.0...  \n1  http://images.amazon.com/images/P/0002005018.0...  \n2  http://images.amazon.com/images/P/0060973129.0...  \n3  http://images.amazon.com/images/P/0374157065.0...  \n4  http://images.amazon.com/images/P/0393045218.0...  ",
      "text/html": "<div>\n<style scoped>\n    .dataframe tbody tr th:only-of-type {\n        vertical-align: middle;\n    }\n\n    .dataframe tbody tr th {\n        vertical-align: top;\n    }\n\n    .dataframe thead th {\n        text-align: right;\n    }\n</style>\n<table border=\"1\" class=\"dataframe\">\n  <thead>\n    <tr style=\"text-align: right;\">\n      <th></th>\n      <th>ISBN</th>\n      <th>Book-Title</th>\n      <th>Book-Author</th>\n      <th>Year-Of-Publication</th>\n      <th>Publisher</th>\n      <th>Image-URL-S</th>\n      <th>Image-URL-M</th>\n      <th>Image-URL-L</th>\n    </tr>\n  </thead>\n  <tbody>\n    <tr>\n      <th>0</th>\n      <td>0195153448</td>\n      <td>Classical Mythology</td>\n      <td>Mark P. O. Morford</td>\n      <td>2002</td>\n      <td>Oxford University Press</td>\n      <td>http://images.amazon.com/images/P/0195153448.0...</td>\n      <td>http://images.amazon.com/images/P/0195153448.0...</td>\n      <td>http://images.amazon.com/images/P/0195153448.0...</td>\n    </tr>\n    <tr>\n      <th>1</th>\n      <td>0002005018</td>\n      <td>Clara Callan</td>\n      <td>Richard Bruce Wright</td>\n      <td>2001</td>\n      <td>HarperFlamingo Canada</td>\n      <td>http://images.amazon.com/images/P/0002005018.0...</td>\n      <td>http://images.amazon.com/images/P/0002005018.0...</td>\n      <td>http://images.amazon.com/images/P/0002005018.0...</td>\n    </tr>\n    <tr>\n      <th>2</th>\n      <td>0060973129</td>\n      <td>Decision in Normandy</td>\n      <td>Carlo D'Este</td>\n      <td>1991</td>\n      <td>HarperPerennial</td>\n      <td>http://images.amazon.com/images/P/0060973129.0...</td>\n      <td>http://images.amazon.com/images/P/0060973129.0...</td>\n      <td>http://images.amazon.com/images/P/0060973129.0...</td>\n    </tr>\n    <tr>\n      <th>3</th>\n      <td>0374157065</td>\n      <td>Flu: The Story of the Great Influenza Pandemic...</td>\n      <td>Gina Bari Kolata</td>\n      <td>1999</td>\n      <td>Farrar Straus Giroux</td>\n      <td>http://images.amazon.com/images/P/0374157065.0...</td>\n      <td>http://images.amazon.com/images/P/0374157065.0...</td>\n      <td>http://images.amazon.com/images/P/0374157065.0...</td>\n    </tr>\n    <tr>\n      <th>4</th>\n      <td>0393045218</td>\n      <td>The Mummies of Urumchi</td>\n      <td>E. J. W. Barber</td>\n      <td>1999</td>\n      <td>W. W. Norton &amp;amp; Company</td>\n      <td>http://images.amazon.com/images/P/0393045218.0...</td>\n      <td>http://images.amazon.com/images/P/0393045218.0...</td>\n      <td>http://images.amazon.com/images/P/0393045218.0...</td>\n    </tr>\n  </tbody>\n</table>\n</div>"
     },
     "execution_count": 5,
     "metadata": {},
     "output_type": "execute_result"
    }
   ],
   "source": [
    "books.head()"
   ]
  },
  {
   "cell_type": "code",
   "execution_count": 6,
   "id": "58f9f3df-7fd0-4832-9a7c-6a495eb1dd96",
   "metadata": {
    "ExecuteTime": {
     "end_time": "2023-11-02T07:27:40.993615Z",
     "start_time": "2023-11-02T07:27:40.990615Z"
    }
   },
   "outputs": [
    {
     "data": {
      "text/plain": "(270491, 8)"
     },
     "execution_count": 6,
     "metadata": {},
     "output_type": "execute_result"
    }
   ],
   "source": [
    "books.shape"
   ]
  },
  {
   "cell_type": "code",
   "execution_count": 7,
   "id": "66b446b4-b92c-40d0-a24f-75bb37181d6f",
   "metadata": {
    "ExecuteTime": {
     "end_time": "2023-11-02T07:27:40.996073Z",
     "start_time": "2023-11-02T07:27:40.993356Z"
    }
   },
   "outputs": [
    {
     "data": {
      "text/plain": "Index(['ISBN', 'Book-Title', 'Book-Author', 'Year-Of-Publication', 'Publisher',\n       'Image-URL-S', 'Image-URL-M', 'Image-URL-L'],\n      dtype='object')"
     },
     "execution_count": 7,
     "metadata": {},
     "output_type": "execute_result"
    }
   ],
   "source": [
    "books.columns"
   ]
  },
  {
   "cell_type": "code",
   "execution_count": 8,
   "id": "8949b3a1-de9b-487a-b582-2f9780dc1ed0",
   "metadata": {
    "ExecuteTime": {
     "end_time": "2023-11-02T07:27:41.038763Z",
     "start_time": "2023-11-02T07:27:41.010822Z"
    }
   },
   "outputs": [],
   "source": [
    "books = books[['ISBN', 'Book-Title', 'Book-Author', 'Year-Of-Publication', 'Publisher',\n",
    "       'Image-URL-S']]"
   ]
  },
  {
   "cell_type": "code",
   "execution_count": 9,
   "id": "bf9ad316-7350-4a91-b917-dc5f2abca2a3",
   "metadata": {
    "ExecuteTime": {
     "end_time": "2023-11-02T07:27:41.039886Z",
     "start_time": "2023-11-02T07:27:41.015959Z"
    }
   },
   "outputs": [
    {
     "data": {
      "text/plain": "         ISBN                                         Book-Title  \\\n0  0195153448                                Classical Mythology   \n1  0002005018                                       Clara Callan   \n2  0060973129                               Decision in Normandy   \n3  0374157065  Flu: The Story of the Great Influenza Pandemic...   \n4  0393045218                             The Mummies of Urumchi   \n\n            Book-Author  Year-Of-Publication                   Publisher  \\\n0    Mark P. O. Morford                 2002     Oxford University Press   \n1  Richard Bruce Wright                 2001       HarperFlamingo Canada   \n2          Carlo D'Este                 1991             HarperPerennial   \n3      Gina Bari Kolata                 1999        Farrar Straus Giroux   \n4       E. J. W. Barber                 1999  W. W. Norton &amp; Company   \n\n                                         Image-URL-S  \n0  http://images.amazon.com/images/P/0195153448.0...  \n1  http://images.amazon.com/images/P/0002005018.0...  \n2  http://images.amazon.com/images/P/0060973129.0...  \n3  http://images.amazon.com/images/P/0374157065.0...  \n4  http://images.amazon.com/images/P/0393045218.0...  ",
      "text/html": "<div>\n<style scoped>\n    .dataframe tbody tr th:only-of-type {\n        vertical-align: middle;\n    }\n\n    .dataframe tbody tr th {\n        vertical-align: top;\n    }\n\n    .dataframe thead th {\n        text-align: right;\n    }\n</style>\n<table border=\"1\" class=\"dataframe\">\n  <thead>\n    <tr style=\"text-align: right;\">\n      <th></th>\n      <th>ISBN</th>\n      <th>Book-Title</th>\n      <th>Book-Author</th>\n      <th>Year-Of-Publication</th>\n      <th>Publisher</th>\n      <th>Image-URL-S</th>\n    </tr>\n  </thead>\n  <tbody>\n    <tr>\n      <th>0</th>\n      <td>0195153448</td>\n      <td>Classical Mythology</td>\n      <td>Mark P. O. Morford</td>\n      <td>2002</td>\n      <td>Oxford University Press</td>\n      <td>http://images.amazon.com/images/P/0195153448.0...</td>\n    </tr>\n    <tr>\n      <th>1</th>\n      <td>0002005018</td>\n      <td>Clara Callan</td>\n      <td>Richard Bruce Wright</td>\n      <td>2001</td>\n      <td>HarperFlamingo Canada</td>\n      <td>http://images.amazon.com/images/P/0002005018.0...</td>\n    </tr>\n    <tr>\n      <th>2</th>\n      <td>0060973129</td>\n      <td>Decision in Normandy</td>\n      <td>Carlo D'Este</td>\n      <td>1991</td>\n      <td>HarperPerennial</td>\n      <td>http://images.amazon.com/images/P/0060973129.0...</td>\n    </tr>\n    <tr>\n      <th>3</th>\n      <td>0374157065</td>\n      <td>Flu: The Story of the Great Influenza Pandemic...</td>\n      <td>Gina Bari Kolata</td>\n      <td>1999</td>\n      <td>Farrar Straus Giroux</td>\n      <td>http://images.amazon.com/images/P/0374157065.0...</td>\n    </tr>\n    <tr>\n      <th>4</th>\n      <td>0393045218</td>\n      <td>The Mummies of Urumchi</td>\n      <td>E. J. W. Barber</td>\n      <td>1999</td>\n      <td>W. W. Norton &amp;amp; Company</td>\n      <td>http://images.amazon.com/images/P/0393045218.0...</td>\n    </tr>\n  </tbody>\n</table>\n</div>"
     },
     "execution_count": 9,
     "metadata": {},
     "output_type": "execute_result"
    }
   ],
   "source": [
    "books.head()"
   ]
  },
  {
   "cell_type": "code",
   "execution_count": 10,
   "id": "2600a0f6-26b9-4164-a0e6-05d6694ade45",
   "metadata": {
    "ExecuteTime": {
     "end_time": "2023-11-02T07:27:41.040103Z",
     "start_time": "2023-11-02T07:27:41.019130Z"
    }
   },
   "outputs": [],
   "source": [
    "books.rename(columns = {\"Book-Title\" : \"title\",\n",
    "                        \"Book-Author\": \"author\",\n",
    "                        \"Year-Of-Publication\":\"year\",\n",
    "                        \"Publisher\":\"publisher\",\n",
    "                        \"Image-URL-S\":\"image_url\"},inplace = True)"
   ]
  },
  {
   "cell_type": "code",
   "execution_count": 11,
   "id": "594833b1-c240-4ec5-a0d9-f470bfa4ea50",
   "metadata": {
    "ExecuteTime": {
     "end_time": "2023-11-02T07:27:41.040515Z",
     "start_time": "2023-11-02T07:27:41.023173Z"
    }
   },
   "outputs": [
    {
     "data": {
      "text/plain": "         ISBN                                              title  \\\n0  0195153448                                Classical Mythology   \n1  0002005018                                       Clara Callan   \n2  0060973129                               Decision in Normandy   \n3  0374157065  Flu: The Story of the Great Influenza Pandemic...   \n4  0393045218                             The Mummies of Urumchi   \n\n                 author  year                   publisher  \\\n0    Mark P. O. Morford  2002     Oxford University Press   \n1  Richard Bruce Wright  2001       HarperFlamingo Canada   \n2          Carlo D'Este  1991             HarperPerennial   \n3      Gina Bari Kolata  1999        Farrar Straus Giroux   \n4       E. J. W. Barber  1999  W. W. Norton &amp; Company   \n\n                                           image_url  \n0  http://images.amazon.com/images/P/0195153448.0...  \n1  http://images.amazon.com/images/P/0002005018.0...  \n2  http://images.amazon.com/images/P/0060973129.0...  \n3  http://images.amazon.com/images/P/0374157065.0...  \n4  http://images.amazon.com/images/P/0393045218.0...  ",
      "text/html": "<div>\n<style scoped>\n    .dataframe tbody tr th:only-of-type {\n        vertical-align: middle;\n    }\n\n    .dataframe tbody tr th {\n        vertical-align: top;\n    }\n\n    .dataframe thead th {\n        text-align: right;\n    }\n</style>\n<table border=\"1\" class=\"dataframe\">\n  <thead>\n    <tr style=\"text-align: right;\">\n      <th></th>\n      <th>ISBN</th>\n      <th>title</th>\n      <th>author</th>\n      <th>year</th>\n      <th>publisher</th>\n      <th>image_url</th>\n    </tr>\n  </thead>\n  <tbody>\n    <tr>\n      <th>0</th>\n      <td>0195153448</td>\n      <td>Classical Mythology</td>\n      <td>Mark P. O. Morford</td>\n      <td>2002</td>\n      <td>Oxford University Press</td>\n      <td>http://images.amazon.com/images/P/0195153448.0...</td>\n    </tr>\n    <tr>\n      <th>1</th>\n      <td>0002005018</td>\n      <td>Clara Callan</td>\n      <td>Richard Bruce Wright</td>\n      <td>2001</td>\n      <td>HarperFlamingo Canada</td>\n      <td>http://images.amazon.com/images/P/0002005018.0...</td>\n    </tr>\n    <tr>\n      <th>2</th>\n      <td>0060973129</td>\n      <td>Decision in Normandy</td>\n      <td>Carlo D'Este</td>\n      <td>1991</td>\n      <td>HarperPerennial</td>\n      <td>http://images.amazon.com/images/P/0060973129.0...</td>\n    </tr>\n    <tr>\n      <th>3</th>\n      <td>0374157065</td>\n      <td>Flu: The Story of the Great Influenza Pandemic...</td>\n      <td>Gina Bari Kolata</td>\n      <td>1999</td>\n      <td>Farrar Straus Giroux</td>\n      <td>http://images.amazon.com/images/P/0374157065.0...</td>\n    </tr>\n    <tr>\n      <th>4</th>\n      <td>0393045218</td>\n      <td>The Mummies of Urumchi</td>\n      <td>E. J. W. Barber</td>\n      <td>1999</td>\n      <td>W. W. Norton &amp;amp; Company</td>\n      <td>http://images.amazon.com/images/P/0393045218.0...</td>\n    </tr>\n  </tbody>\n</table>\n</div>"
     },
     "execution_count": 11,
     "metadata": {},
     "output_type": "execute_result"
    }
   ],
   "source": [
    "books.head()\n"
   ]
  },
  {
   "cell_type": "code",
   "execution_count": 12,
   "id": "8520b3d8-7f2f-43c1-a7e5-1e8733704b69",
   "metadata": {
    "ExecuteTime": {
     "end_time": "2023-11-02T07:27:41.748176Z",
     "start_time": "2023-11-02T07:27:41.025789Z"
    }
   },
   "outputs": [],
   "source": [
    "users=pd.read_csv(\"data/BX-Users.csv\", sep=\";\", on_bad_lines=on_bad_lines, engine=\"python\", encoding=\"latin-1\")"
   ]
  },
  {
   "cell_type": "code",
   "execution_count": 13,
   "id": "0be0235f-c410-4306-8649-d22a26266375",
   "metadata": {
    "ExecuteTime": {
     "end_time": "2023-11-02T07:27:41.753536Z",
     "start_time": "2023-11-02T07:27:41.750332Z"
    }
   },
   "outputs": [
    {
     "data": {
      "text/plain": "   User-ID                            Location   Age\n0        1                  nyc, new york, usa   NaN\n1        2           stockton, california, usa  18.0\n2        3     moscow, yukon territory, russia   NaN\n3        4           porto, v.n.gaia, portugal  17.0\n4        5  farnborough, hants, united kingdom   NaN",
      "text/html": "<div>\n<style scoped>\n    .dataframe tbody tr th:only-of-type {\n        vertical-align: middle;\n    }\n\n    .dataframe tbody tr th {\n        vertical-align: top;\n    }\n\n    .dataframe thead th {\n        text-align: right;\n    }\n</style>\n<table border=\"1\" class=\"dataframe\">\n  <thead>\n    <tr style=\"text-align: right;\">\n      <th></th>\n      <th>User-ID</th>\n      <th>Location</th>\n      <th>Age</th>\n    </tr>\n  </thead>\n  <tbody>\n    <tr>\n      <th>0</th>\n      <td>1</td>\n      <td>nyc, new york, usa</td>\n      <td>NaN</td>\n    </tr>\n    <tr>\n      <th>1</th>\n      <td>2</td>\n      <td>stockton, california, usa</td>\n      <td>18.0</td>\n    </tr>\n    <tr>\n      <th>2</th>\n      <td>3</td>\n      <td>moscow, yukon territory, russia</td>\n      <td>NaN</td>\n    </tr>\n    <tr>\n      <th>3</th>\n      <td>4</td>\n      <td>porto, v.n.gaia, portugal</td>\n      <td>17.0</td>\n    </tr>\n    <tr>\n      <th>4</th>\n      <td>5</td>\n      <td>farnborough, hants, united kingdom</td>\n      <td>NaN</td>\n    </tr>\n  </tbody>\n</table>\n</div>"
     },
     "execution_count": 13,
     "metadata": {},
     "output_type": "execute_result"
    }
   ],
   "source": [
    "users.head()\n"
   ]
  },
  {
   "cell_type": "code",
   "execution_count": 14,
   "id": "90eb88a7-9230-4e4a-bb2f-618f86a3c529",
   "metadata": {
    "ExecuteTime": {
     "end_time": "2023-11-02T07:27:44.390823Z",
     "start_time": "2023-11-02T07:27:41.753458Z"
    }
   },
   "outputs": [],
   "source": [
    "ratings = pd.read_csv(\"data/BX-Book-Ratings.csv\", sep=\";\", on_bad_lines=on_bad_lines, engine=\"python\", encoding=\"latin-1\")"
   ]
  },
  {
   "cell_type": "code",
   "execution_count": 15,
   "id": "a60d0371-a763-41a0-92da-60e30e8be530",
   "metadata": {
    "ExecuteTime": {
     "end_time": "2023-11-02T07:27:44.398437Z",
     "start_time": "2023-11-02T07:27:44.396099Z"
    }
   },
   "outputs": [
    {
     "data": {
      "text/plain": "   User-ID        ISBN  Book-Rating\n0   276725  034545104X            0\n1   276726  0155061224            5\n2   276727  0446520802            0\n3   276729  052165615X            3\n4   276729  0521795028            6",
      "text/html": "<div>\n<style scoped>\n    .dataframe tbody tr th:only-of-type {\n        vertical-align: middle;\n    }\n\n    .dataframe tbody tr th {\n        vertical-align: top;\n    }\n\n    .dataframe thead th {\n        text-align: right;\n    }\n</style>\n<table border=\"1\" class=\"dataframe\">\n  <thead>\n    <tr style=\"text-align: right;\">\n      <th></th>\n      <th>User-ID</th>\n      <th>ISBN</th>\n      <th>Book-Rating</th>\n    </tr>\n  </thead>\n  <tbody>\n    <tr>\n      <th>0</th>\n      <td>276725</td>\n      <td>034545104X</td>\n      <td>0</td>\n    </tr>\n    <tr>\n      <th>1</th>\n      <td>276726</td>\n      <td>0155061224</td>\n      <td>5</td>\n    </tr>\n    <tr>\n      <th>2</th>\n      <td>276727</td>\n      <td>0446520802</td>\n      <td>0</td>\n    </tr>\n    <tr>\n      <th>3</th>\n      <td>276729</td>\n      <td>052165615X</td>\n      <td>3</td>\n    </tr>\n    <tr>\n      <th>4</th>\n      <td>276729</td>\n      <td>0521795028</td>\n      <td>6</td>\n    </tr>\n  </tbody>\n</table>\n</div>"
     },
     "execution_count": 15,
     "metadata": {},
     "output_type": "execute_result"
    }
   ],
   "source": [
    "ratings.head()"
   ]
  },
  {
   "cell_type": "code",
   "execution_count": 16,
   "id": "419e3f32-ae72-4a2e-8bc5-af6130e6387d",
   "metadata": {
    "ExecuteTime": {
     "end_time": "2023-11-02T07:27:44.404903Z",
     "start_time": "2023-11-02T07:27:44.398957Z"
    }
   },
   "outputs": [
    {
     "data": {
      "text/plain": "(1149766, 3)"
     },
     "execution_count": 16,
     "metadata": {},
     "output_type": "execute_result"
    }
   ],
   "source": [
    "ratings.shape"
   ]
  },
  {
   "cell_type": "code",
   "execution_count": 17,
   "id": "bbdbb7ac-d9a4-4db8-a481-8c9e0bf64b52",
   "metadata": {
    "ExecuteTime": {
     "end_time": "2023-11-02T07:27:44.406226Z",
     "start_time": "2023-11-02T07:27:44.403024Z"
    }
   },
   "outputs": [],
   "source": [
    "ratings.rename (columns={\n",
    "\"User-ID\": \"user_id\",\n",
    "\"Book-Rating\": \"rating\"},inplace= True)"
   ]
  },
  {
   "cell_type": "code",
   "execution_count": 18,
   "id": "5b572e3a-eaa5-4f44-bf9e-72dca02e705d",
   "metadata": {
    "ExecuteTime": {
     "end_time": "2023-11-02T07:27:44.410636Z",
     "start_time": "2023-11-02T07:27:44.407362Z"
    }
   },
   "outputs": [
    {
     "data": {
      "text/plain": "   user_id        ISBN  rating\n0   276725  034545104X       0\n1   276726  0155061224       5\n2   276727  0446520802       0\n3   276729  052165615X       3\n4   276729  0521795028       6",
      "text/html": "<div>\n<style scoped>\n    .dataframe tbody tr th:only-of-type {\n        vertical-align: middle;\n    }\n\n    .dataframe tbody tr th {\n        vertical-align: top;\n    }\n\n    .dataframe thead th {\n        text-align: right;\n    }\n</style>\n<table border=\"1\" class=\"dataframe\">\n  <thead>\n    <tr style=\"text-align: right;\">\n      <th></th>\n      <th>user_id</th>\n      <th>ISBN</th>\n      <th>rating</th>\n    </tr>\n  </thead>\n  <tbody>\n    <tr>\n      <th>0</th>\n      <td>276725</td>\n      <td>034545104X</td>\n      <td>0</td>\n    </tr>\n    <tr>\n      <th>1</th>\n      <td>276726</td>\n      <td>0155061224</td>\n      <td>5</td>\n    </tr>\n    <tr>\n      <th>2</th>\n      <td>276727</td>\n      <td>0446520802</td>\n      <td>0</td>\n    </tr>\n    <tr>\n      <th>3</th>\n      <td>276729</td>\n      <td>052165615X</td>\n      <td>3</td>\n    </tr>\n    <tr>\n      <th>4</th>\n      <td>276729</td>\n      <td>0521795028</td>\n      <td>6</td>\n    </tr>\n  </tbody>\n</table>\n</div>"
     },
     "execution_count": 18,
     "metadata": {},
     "output_type": "execute_result"
    }
   ],
   "source": [
    "ratings.head()"
   ]
  },
  {
   "cell_type": "code",
   "execution_count": 19,
   "id": "a9049420-5c27-4aa7-90d0-754d0cb6f1ac",
   "metadata": {
    "ExecuteTime": {
     "end_time": "2023-11-02T07:27:44.490973Z",
     "start_time": "2023-11-02T07:27:44.418334Z"
    }
   },
   "outputs": [
    {
     "data": {
      "text/plain": "(105274,)"
     },
     "execution_count": 19,
     "metadata": {},
     "output_type": "execute_result"
    }
   ],
   "source": [
    "x = ratings['user_id'].value_counts() > 200\n",
    "x.shape"
   ]
  },
  {
   "cell_type": "code",
   "execution_count": 20,
   "id": "53e9c4a1-70e1-4722-bff9-a10e65442198",
   "metadata": {
    "ExecuteTime": {
     "end_time": "2023-11-02T07:27:44.491715Z",
     "start_time": "2023-11-02T07:27:44.425188Z"
    }
   },
   "outputs": [
    {
     "data": {
      "text/plain": "(899,)"
     },
     "execution_count": 20,
     "metadata": {},
     "output_type": "execute_result"
    }
   ],
   "source": [
    "x[x].shape"
   ]
  },
  {
   "cell_type": "code",
   "execution_count": 21,
   "id": "1360d240-c26e-402e-92aa-8d1c171cb9ae",
   "metadata": {
    "ExecuteTime": {
     "end_time": "2023-11-02T07:27:44.491871Z",
     "start_time": "2023-11-02T07:27:44.428591Z"
    }
   },
   "outputs": [],
   "source": [
    "y = x[x].index"
   ]
  },
  {
   "cell_type": "code",
   "execution_count": 22,
   "id": "1ddc0dd6-598f-4ef2-a55e-8c6a1ce3ba6a",
   "metadata": {
    "ExecuteTime": {
     "end_time": "2023-11-02T07:27:44.492160Z",
     "start_time": "2023-11-02T07:27:44.444572Z"
    }
   },
   "outputs": [
    {
     "data": {
      "text/plain": "Index([ 11676, 198711, 153662,  98391,  35859, 212898, 278418,  76352, 110973,\n       235105,\n       ...\n        33145, 268622, 274808, 155916,   9856,  73681, 188951,  59727,  28634,\n        44296],\n      dtype='int64', name='user_id', length=899)"
     },
     "execution_count": 22,
     "metadata": {},
     "output_type": "execute_result"
    }
   ],
   "source": [
    "y"
   ]
  },
  {
   "cell_type": "code",
   "execution_count": 23,
   "id": "70c20af7-4697-4be7-a537-4687141e893c",
   "metadata": {
    "ExecuteTime": {
     "end_time": "2023-11-02T07:27:44.526245Z",
     "start_time": "2023-11-02T07:27:44.444844Z"
    }
   },
   "outputs": [],
   "source": [
    "ratings = ratings[ratings[\"user_id\"].isin(y)]"
   ]
  },
  {
   "cell_type": "code",
   "execution_count": 24,
   "id": "8c6d355c-c520-43a6-be29-91f79f619d41",
   "metadata": {
    "ExecuteTime": {
     "end_time": "2023-11-02T07:27:44.538463Z",
     "start_time": "2023-11-02T07:27:44.461202Z"
    }
   },
   "outputs": [
    {
     "data": {
      "text/plain": "(526354, 3)"
     },
     "execution_count": 24,
     "metadata": {},
     "output_type": "execute_result"
    }
   ],
   "source": [
    "ratings.shape"
   ]
  },
  {
   "cell_type": "code",
   "execution_count": 25,
   "id": "b41b286b-01e0-4ef0-9fc7-2b013e7e6d0f",
   "metadata": {
    "ExecuteTime": {
     "end_time": "2023-11-02T07:27:44.539191Z",
     "start_time": "2023-11-02T07:27:44.465880Z"
    }
   },
   "outputs": [
    {
     "data": {
      "text/plain": "      user_id        ISBN  rating\n1456   277427  002542730X      10\n1457   277427  0026217457       0\n1458   277427  003008685X       8\n1459   277427  0030615321       0\n1460   277427  0060002050       0",
      "text/html": "<div>\n<style scoped>\n    .dataframe tbody tr th:only-of-type {\n        vertical-align: middle;\n    }\n\n    .dataframe tbody tr th {\n        vertical-align: top;\n    }\n\n    .dataframe thead th {\n        text-align: right;\n    }\n</style>\n<table border=\"1\" class=\"dataframe\">\n  <thead>\n    <tr style=\"text-align: right;\">\n      <th></th>\n      <th>user_id</th>\n      <th>ISBN</th>\n      <th>rating</th>\n    </tr>\n  </thead>\n  <tbody>\n    <tr>\n      <th>1456</th>\n      <td>277427</td>\n      <td>002542730X</td>\n      <td>10</td>\n    </tr>\n    <tr>\n      <th>1457</th>\n      <td>277427</td>\n      <td>0026217457</td>\n      <td>0</td>\n    </tr>\n    <tr>\n      <th>1458</th>\n      <td>277427</td>\n      <td>003008685X</td>\n      <td>8</td>\n    </tr>\n    <tr>\n      <th>1459</th>\n      <td>277427</td>\n      <td>0030615321</td>\n      <td>0</td>\n    </tr>\n    <tr>\n      <th>1460</th>\n      <td>277427</td>\n      <td>0060002050</td>\n      <td>0</td>\n    </tr>\n  </tbody>\n</table>\n</div>"
     },
     "execution_count": 25,
     "metadata": {},
     "output_type": "execute_result"
    }
   ],
   "source": [
    "ratings.head()"
   ]
  },
  {
   "cell_type": "code",
   "execution_count": 26,
   "id": "2f27420e-2519-4e38-8e06-45d42436f412",
   "metadata": {
    "ExecuteTime": {
     "end_time": "2023-11-02T07:27:44.680040Z",
     "start_time": "2023-11-02T07:27:44.469093Z"
    }
   },
   "outputs": [],
   "source": [
    "# Check if the ISBN column is present in both the ratings and books DataFrames\n",
    "if \"ISBN\" in ratings.columns and \"ISBN\" in books.columns:\n",
    "    # Merge the ratings and books DataFrames on the ISBN column\n",
    "    ratings_books = ratings.merge(books, on=\"ISBN\")\n",
    "else:\n",
    "    # Raise an error if the ISBN column is not present in both DataFrames\n",
    "    raise KeyError(\"The ISBN column is not present in both DataFrames.\")"
   ]
  },
  {
   "cell_type": "code",
   "execution_count": 27,
   "id": "6ef24326-b03c-4767-8f6e-b5e42b2bbb77",
   "metadata": {
    "ExecuteTime": {
     "end_time": "2023-11-02T07:27:44.685545Z",
     "start_time": "2023-11-02T07:27:44.682700Z"
    }
   },
   "outputs": [
    {
     "data": {
      "text/plain": "   user_id        ISBN  rating  \\\n0   277427  002542730X      10   \n1     3363  002542730X       0   \n2    11676  002542730X       6   \n3    12538  002542730X      10   \n4    13552  002542730X       0   \n\n                                               title             author  year  \\\n0  Politically Correct Bedtime Stories: Modern Ta...  James Finn Garner  1994   \n1  Politically Correct Bedtime Stories: Modern Ta...  James Finn Garner  1994   \n2  Politically Correct Bedtime Stories: Modern Ta...  James Finn Garner  1994   \n3  Politically Correct Bedtime Stories: Modern Ta...  James Finn Garner  1994   \n4  Politically Correct Bedtime Stories: Modern Ta...  James Finn Garner  1994   \n\n                   publisher  \\\n0  John Wiley &amp; Sons Inc   \n1  John Wiley &amp; Sons Inc   \n2  John Wiley &amp; Sons Inc   \n3  John Wiley &amp; Sons Inc   \n4  John Wiley &amp; Sons Inc   \n\n                                           image_url  \n0  http://images.amazon.com/images/P/002542730X.0...  \n1  http://images.amazon.com/images/P/002542730X.0...  \n2  http://images.amazon.com/images/P/002542730X.0...  \n3  http://images.amazon.com/images/P/002542730X.0...  \n4  http://images.amazon.com/images/P/002542730X.0...  ",
      "text/html": "<div>\n<style scoped>\n    .dataframe tbody tr th:only-of-type {\n        vertical-align: middle;\n    }\n\n    .dataframe tbody tr th {\n        vertical-align: top;\n    }\n\n    .dataframe thead th {\n        text-align: right;\n    }\n</style>\n<table border=\"1\" class=\"dataframe\">\n  <thead>\n    <tr style=\"text-align: right;\">\n      <th></th>\n      <th>user_id</th>\n      <th>ISBN</th>\n      <th>rating</th>\n      <th>title</th>\n      <th>author</th>\n      <th>year</th>\n      <th>publisher</th>\n      <th>image_url</th>\n    </tr>\n  </thead>\n  <tbody>\n    <tr>\n      <th>0</th>\n      <td>277427</td>\n      <td>002542730X</td>\n      <td>10</td>\n      <td>Politically Correct Bedtime Stories: Modern Ta...</td>\n      <td>James Finn Garner</td>\n      <td>1994</td>\n      <td>John Wiley &amp;amp; Sons Inc</td>\n      <td>http://images.amazon.com/images/P/002542730X.0...</td>\n    </tr>\n    <tr>\n      <th>1</th>\n      <td>3363</td>\n      <td>002542730X</td>\n      <td>0</td>\n      <td>Politically Correct Bedtime Stories: Modern Ta...</td>\n      <td>James Finn Garner</td>\n      <td>1994</td>\n      <td>John Wiley &amp;amp; Sons Inc</td>\n      <td>http://images.amazon.com/images/P/002542730X.0...</td>\n    </tr>\n    <tr>\n      <th>2</th>\n      <td>11676</td>\n      <td>002542730X</td>\n      <td>6</td>\n      <td>Politically Correct Bedtime Stories: Modern Ta...</td>\n      <td>James Finn Garner</td>\n      <td>1994</td>\n      <td>John Wiley &amp;amp; Sons Inc</td>\n      <td>http://images.amazon.com/images/P/002542730X.0...</td>\n    </tr>\n    <tr>\n      <th>3</th>\n      <td>12538</td>\n      <td>002542730X</td>\n      <td>10</td>\n      <td>Politically Correct Bedtime Stories: Modern Ta...</td>\n      <td>James Finn Garner</td>\n      <td>1994</td>\n      <td>John Wiley &amp;amp; Sons Inc</td>\n      <td>http://images.amazon.com/images/P/002542730X.0...</td>\n    </tr>\n    <tr>\n      <th>4</th>\n      <td>13552</td>\n      <td>002542730X</td>\n      <td>0</td>\n      <td>Politically Correct Bedtime Stories: Modern Ta...</td>\n      <td>James Finn Garner</td>\n      <td>1994</td>\n      <td>John Wiley &amp;amp; Sons Inc</td>\n      <td>http://images.amazon.com/images/P/002542730X.0...</td>\n    </tr>\n  </tbody>\n</table>\n</div>"
     },
     "execution_count": 27,
     "metadata": {},
     "output_type": "execute_result"
    }
   ],
   "source": [
    "ratings_books.head()"
   ]
  },
  {
   "cell_type": "code",
   "execution_count": 28,
   "id": "bef03e31-056d-4317-a45a-f4610bf0e618",
   "metadata": {
    "ExecuteTime": {
     "end_time": "2023-11-02T07:27:44.874302Z",
     "start_time": "2023-11-02T07:27:44.691254Z"
    }
   },
   "outputs": [
    {
     "data": {
      "text/plain": "                                               title  rating\n0   A Light in the Storm: The Civil War Diary of ...       2\n1                              Always Have Popsicles       1\n2               Apple Magic (The Collector's series)       1\n3   Beyond IBM: Leadership Marketing and Finance ...       1\n4   Clifford Visita El Hospital (Clifford El Gran...       1",
      "text/html": "<div>\n<style scoped>\n    .dataframe tbody tr th:only-of-type {\n        vertical-align: middle;\n    }\n\n    .dataframe tbody tr th {\n        vertical-align: top;\n    }\n\n    .dataframe thead th {\n        text-align: right;\n    }\n</style>\n<table border=\"1\" class=\"dataframe\">\n  <thead>\n    <tr style=\"text-align: right;\">\n      <th></th>\n      <th>title</th>\n      <th>rating</th>\n    </tr>\n  </thead>\n  <tbody>\n    <tr>\n      <th>0</th>\n      <td>A Light in the Storm: The Civil War Diary of ...</td>\n      <td>2</td>\n    </tr>\n    <tr>\n      <th>1</th>\n      <td>Always Have Popsicles</td>\n      <td>1</td>\n    </tr>\n    <tr>\n      <th>2</th>\n      <td>Apple Magic (The Collector's series)</td>\n      <td>1</td>\n    </tr>\n    <tr>\n      <th>3</th>\n      <td>Beyond IBM: Leadership Marketing and Finance ...</td>\n      <td>1</td>\n    </tr>\n    <tr>\n      <th>4</th>\n      <td>Clifford Visita El Hospital (Clifford El Gran...</td>\n      <td>1</td>\n    </tr>\n  </tbody>\n</table>\n</div>"
     },
     "execution_count": 28,
     "metadata": {},
     "output_type": "execute_result"
    }
   ],
   "source": [
    "num_rating = ratings_books.groupby('title')['rating'].count().reset_index()\n",
    "num_rating.head()"
   ]
  },
  {
   "cell_type": "code",
   "execution_count": 29,
   "id": "f7afc68b-240f-4bc7-bd28-33fd1c9af897",
   "metadata": {
    "ExecuteTime": {
     "end_time": "2023-11-02T07:27:44.874527Z",
     "start_time": "2023-11-02T07:27:44.871786Z"
    }
   },
   "outputs": [],
   "source": [
    "num_rating.rename(columns={'rating': 'num_of_rating'},inplace = True)"
   ]
  },
  {
   "cell_type": "code",
   "execution_count": 30,
   "id": "39c47afd-cd82-4f17-8387-05c40c285671",
   "metadata": {
    "scrolled": true,
    "ExecuteTime": {
     "end_time": "2023-11-02T07:27:44.879508Z",
     "start_time": "2023-11-02T07:27:44.875759Z"
    }
   },
   "outputs": [
    {
     "data": {
      "text/plain": "                                               title  num_of_rating\n0   A Light in the Storm: The Civil War Diary of ...              2\n1                              Always Have Popsicles              1\n2               Apple Magic (The Collector's series)              1\n3   Beyond IBM: Leadership Marketing and Finance ...              1\n4   Clifford Visita El Hospital (Clifford El Gran...              1",
      "text/html": "<div>\n<style scoped>\n    .dataframe tbody tr th:only-of-type {\n        vertical-align: middle;\n    }\n\n    .dataframe tbody tr th {\n        vertical-align: top;\n    }\n\n    .dataframe thead th {\n        text-align: right;\n    }\n</style>\n<table border=\"1\" class=\"dataframe\">\n  <thead>\n    <tr style=\"text-align: right;\">\n      <th></th>\n      <th>title</th>\n      <th>num_of_rating</th>\n    </tr>\n  </thead>\n  <tbody>\n    <tr>\n      <th>0</th>\n      <td>A Light in the Storm: The Civil War Diary of ...</td>\n      <td>2</td>\n    </tr>\n    <tr>\n      <th>1</th>\n      <td>Always Have Popsicles</td>\n      <td>1</td>\n    </tr>\n    <tr>\n      <th>2</th>\n      <td>Apple Magic (The Collector's series)</td>\n      <td>1</td>\n    </tr>\n    <tr>\n      <th>3</th>\n      <td>Beyond IBM: Leadership Marketing and Finance ...</td>\n      <td>1</td>\n    </tr>\n    <tr>\n      <th>4</th>\n      <td>Clifford Visita El Hospital (Clifford El Gran...</td>\n      <td>1</td>\n    </tr>\n  </tbody>\n</table>\n</div>"
     },
     "execution_count": 30,
     "metadata": {},
     "output_type": "execute_result"
    }
   ],
   "source": [
    "num_rating.head()"
   ]
  },
  {
   "cell_type": "code",
   "execution_count": 31,
   "id": "40e8bb9c-2483-4d18-97de-13a1315105b4",
   "metadata": {
    "ExecuteTime": {
     "end_time": "2023-11-02T07:27:45.045474Z",
     "start_time": "2023-11-02T07:27:44.902584Z"
    }
   },
   "outputs": [],
   "source": [
    "final_rating = ratings_books.merge(num_rating, on =\"title\")"
   ]
  },
  {
   "cell_type": "code",
   "execution_count": 32,
   "id": "3410781f-3971-4496-bdc6-317d6e71a771",
   "metadata": {
    "ExecuteTime": {
     "end_time": "2023-11-02T07:27:45.053524Z",
     "start_time": "2023-11-02T07:27:45.050438Z"
    }
   },
   "outputs": [
    {
     "data": {
      "text/plain": "   user_id        ISBN  rating  \\\n0   277427  002542730X      10   \n1     3363  002542730X       0   \n2    11676  002542730X       6   \n3    12538  002542730X      10   \n4    13552  002542730X       0   \n\n                                               title             author  year  \\\n0  Politically Correct Bedtime Stories: Modern Ta...  James Finn Garner  1994   \n1  Politically Correct Bedtime Stories: Modern Ta...  James Finn Garner  1994   \n2  Politically Correct Bedtime Stories: Modern Ta...  James Finn Garner  1994   \n3  Politically Correct Bedtime Stories: Modern Ta...  James Finn Garner  1994   \n4  Politically Correct Bedtime Stories: Modern Ta...  James Finn Garner  1994   \n\n                   publisher  \\\n0  John Wiley &amp; Sons Inc   \n1  John Wiley &amp; Sons Inc   \n2  John Wiley &amp; Sons Inc   \n3  John Wiley &amp; Sons Inc   \n4  John Wiley &amp; Sons Inc   \n\n                                           image_url  num_of_rating  \n0  http://images.amazon.com/images/P/002542730X.0...             82  \n1  http://images.amazon.com/images/P/002542730X.0...             82  \n2  http://images.amazon.com/images/P/002542730X.0...             82  \n3  http://images.amazon.com/images/P/002542730X.0...             82  \n4  http://images.amazon.com/images/P/002542730X.0...             82  ",
      "text/html": "<div>\n<style scoped>\n    .dataframe tbody tr th:only-of-type {\n        vertical-align: middle;\n    }\n\n    .dataframe tbody tr th {\n        vertical-align: top;\n    }\n\n    .dataframe thead th {\n        text-align: right;\n    }\n</style>\n<table border=\"1\" class=\"dataframe\">\n  <thead>\n    <tr style=\"text-align: right;\">\n      <th></th>\n      <th>user_id</th>\n      <th>ISBN</th>\n      <th>rating</th>\n      <th>title</th>\n      <th>author</th>\n      <th>year</th>\n      <th>publisher</th>\n      <th>image_url</th>\n      <th>num_of_rating</th>\n    </tr>\n  </thead>\n  <tbody>\n    <tr>\n      <th>0</th>\n      <td>277427</td>\n      <td>002542730X</td>\n      <td>10</td>\n      <td>Politically Correct Bedtime Stories: Modern Ta...</td>\n      <td>James Finn Garner</td>\n      <td>1994</td>\n      <td>John Wiley &amp;amp; Sons Inc</td>\n      <td>http://images.amazon.com/images/P/002542730X.0...</td>\n      <td>82</td>\n    </tr>\n    <tr>\n      <th>1</th>\n      <td>3363</td>\n      <td>002542730X</td>\n      <td>0</td>\n      <td>Politically Correct Bedtime Stories: Modern Ta...</td>\n      <td>James Finn Garner</td>\n      <td>1994</td>\n      <td>John Wiley &amp;amp; Sons Inc</td>\n      <td>http://images.amazon.com/images/P/002542730X.0...</td>\n      <td>82</td>\n    </tr>\n    <tr>\n      <th>2</th>\n      <td>11676</td>\n      <td>002542730X</td>\n      <td>6</td>\n      <td>Politically Correct Bedtime Stories: Modern Ta...</td>\n      <td>James Finn Garner</td>\n      <td>1994</td>\n      <td>John Wiley &amp;amp; Sons Inc</td>\n      <td>http://images.amazon.com/images/P/002542730X.0...</td>\n      <td>82</td>\n    </tr>\n    <tr>\n      <th>3</th>\n      <td>12538</td>\n      <td>002542730X</td>\n      <td>10</td>\n      <td>Politically Correct Bedtime Stories: Modern Ta...</td>\n      <td>James Finn Garner</td>\n      <td>1994</td>\n      <td>John Wiley &amp;amp; Sons Inc</td>\n      <td>http://images.amazon.com/images/P/002542730X.0...</td>\n      <td>82</td>\n    </tr>\n    <tr>\n      <th>4</th>\n      <td>13552</td>\n      <td>002542730X</td>\n      <td>0</td>\n      <td>Politically Correct Bedtime Stories: Modern Ta...</td>\n      <td>James Finn Garner</td>\n      <td>1994</td>\n      <td>John Wiley &amp;amp; Sons Inc</td>\n      <td>http://images.amazon.com/images/P/002542730X.0...</td>\n      <td>82</td>\n    </tr>\n  </tbody>\n</table>\n</div>"
     },
     "execution_count": 32,
     "metadata": {},
     "output_type": "execute_result"
    }
   ],
   "source": [
    "final_rating.head()"
   ]
  },
  {
   "cell_type": "code",
   "execution_count": 33,
   "id": "ac4e3522-89b5-4942-9d29-73ca94d6e65d",
   "metadata": {
    "ExecuteTime": {
     "end_time": "2023-11-02T07:27:45.056420Z",
     "start_time": "2023-11-02T07:27:45.052370Z"
    }
   },
   "outputs": [
    {
     "data": {
      "text/plain": "(486584, 9)"
     },
     "execution_count": 33,
     "metadata": {},
     "output_type": "execute_result"
    }
   ],
   "source": [
    "final_rating.shape"
   ]
  },
  {
   "cell_type": "code",
   "execution_count": 34,
   "id": "549f01b9-9610-449e-8482-063db494dabc",
   "metadata": {
    "ExecuteTime": {
     "end_time": "2023-11-02T07:27:45.065027Z",
     "start_time": "2023-11-02T07:27:45.055692Z"
    }
   },
   "outputs": [
    {
     "data": {
      "text/plain": "(61604, 9)"
     },
     "execution_count": 34,
     "metadata": {},
     "output_type": "execute_result"
    }
   ],
   "source": [
    "final_rating = final_rating[final_rating['num_of_rating']>=50]\n",
    "final_rating.shape"
   ]
  },
  {
   "cell_type": "code",
   "execution_count": 35,
   "id": "8adae897-286a-48e8-b6ba-19d4694b1cb7",
   "metadata": {
    "ExecuteTime": {
     "end_time": "2023-11-02T07:27:45.087426Z",
     "start_time": "2023-11-02T07:27:45.063815Z"
    }
   },
   "outputs": [],
   "source": [
    "final_rating.drop_duplicates(['user_id','title'],inplace=True)"
   ]
  },
  {
   "cell_type": "code",
   "execution_count": 36,
   "id": "f611acc1-46ea-4526-8df3-ac308c61b832",
   "metadata": {
    "ExecuteTime": {
     "end_time": "2023-11-02T07:27:45.119007Z",
     "start_time": "2023-11-02T07:27:45.075110Z"
    }
   },
   "outputs": [
    {
     "data": {
      "text/plain": "(59608, 9)"
     },
     "execution_count": 36,
     "metadata": {},
     "output_type": "execute_result"
    }
   ],
   "source": [
    "final_rating.shape"
   ]
  },
  {
   "cell_type": "code",
   "execution_count": 37,
   "id": "0d93a53c-d39e-493b-ba66-945f334c031b",
   "metadata": {
    "ExecuteTime": {
     "end_time": "2023-11-02T07:27:45.137997Z",
     "start_time": "2023-11-02T07:27:45.078961Z"
    }
   },
   "outputs": [],
   "source": [
    "book_pivot = final_rating.pivot_table(columns = 'user_id',index = 'title',values = 'rating')"
   ]
  },
  {
   "cell_type": "code",
   "execution_count": 38,
   "id": "aec4b96f-a066-40c3-952f-f77a54265350",
   "metadata": {
    "ExecuteTime": {
     "end_time": "2023-11-02T07:27:45.140729Z",
     "start_time": "2023-11-02T07:27:45.105666Z"
    }
   },
   "outputs": [
    {
     "data": {
      "text/plain": "user_id                                             254     2276    2766    \\\ntitle                                                                        \n1984                                                   9.0     NaN     NaN   \n1st to Die: A Novel                                    NaN     NaN     NaN   \n2nd Chance                                             NaN    10.0     NaN   \n4 Blondes                                              NaN     NaN     NaN   \n84 Charing Cross Road                                  NaN     NaN     NaN   \n...                                                    ...     ...     ...   \nWuthering Heights                                      NaN     NaN     NaN   \nYear of Wonders                                        NaN     NaN     NaN   \nYou Belong To Me                                       NaN     NaN     NaN   \nZen and the Art of Motorcycle Maintenance: An I...     NaN     NaN     NaN   \nZoya                                                   NaN     NaN     NaN   \n\nuser_id                                             2977    3363    3757    \\\ntitle                                                                        \n1984                                                   NaN     NaN     NaN   \n1st to Die: A Novel                                    NaN     NaN     NaN   \n2nd Chance                                             NaN     NaN     NaN   \n4 Blondes                                              NaN     NaN     NaN   \n84 Charing Cross Road                                  NaN     NaN     NaN   \n...                                                    ...     ...     ...   \nWuthering Heights                                      NaN     NaN     NaN   \nYear of Wonders                                        7.0     NaN     NaN   \nYou Belong To Me                                       NaN     NaN     NaN   \nZen and the Art of Motorcycle Maintenance: An I...     NaN     0.0     NaN   \nZoya                                                   NaN     NaN     NaN   \n\nuser_id                                             4017    4385    6242    \\\ntitle                                                                        \n1984                                                   NaN     NaN     NaN   \n1st to Die: A Novel                                    NaN     NaN     NaN   \n2nd Chance                                             NaN     NaN     NaN   \n4 Blondes                                              NaN     NaN     NaN   \n84 Charing Cross Road                                  NaN     NaN     NaN   \n...                                                    ...     ...     ...   \nWuthering Heights                                      NaN     NaN     NaN   \nYear of Wonders                                        NaN     NaN     7.0   \nYou Belong To Me                                       NaN     NaN     NaN   \nZen and the Art of Motorcycle Maintenance: An I...     NaN     NaN     NaN   \nZoya                                                   NaN     NaN     NaN   \n\nuser_id                                             6251    ...  274004  \\\ntitle                                                       ...           \n1984                                                   NaN  ...     NaN   \n1st to Die: A Novel                                    NaN  ...     NaN   \n2nd Chance                                             NaN  ...     NaN   \n4 Blondes                                              0.0  ...     NaN   \n84 Charing Cross Road                                  NaN  ...     NaN   \n...                                                    ...  ...     ...   \nWuthering Heights                                      NaN  ...     NaN   \nYear of Wonders                                        NaN  ...     NaN   \nYou Belong To Me                                       NaN  ...     NaN   \nZen and the Art of Motorcycle Maintenance: An I...     0.0  ...     NaN   \nZoya                                                   NaN  ...     NaN   \n\nuser_id                                             274061  274301  274308  \\\ntitle                                                                        \n1984                                                   NaN     NaN     NaN   \n1st to Die: A Novel                                    NaN     NaN     NaN   \n2nd Chance                                             NaN     NaN     0.0   \n4 Blondes                                              NaN     NaN     NaN   \n84 Charing Cross Road                                  NaN     NaN     NaN   \n...                                                    ...     ...     ...   \nWuthering Heights                                      NaN     NaN     0.0   \nYear of Wonders                                        NaN     NaN     NaN   \nYou Belong To Me                                       NaN     NaN     NaN   \nZen and the Art of Motorcycle Maintenance: An I...     NaN     NaN     NaN   \nZoya                                                   NaN     NaN     NaN   \n\nuser_id                                             274808  275970  277427  \\\ntitle                                                                        \n1984                                                   NaN     0.0     NaN   \n1st to Die: A Novel                                    NaN     NaN     NaN   \n2nd Chance                                             NaN     NaN     NaN   \n4 Blondes                                              NaN     NaN     NaN   \n84 Charing Cross Road                                  NaN    10.0     NaN   \n...                                                    ...     ...     ...   \nWuthering Heights                                      NaN     NaN     NaN   \nYear of Wonders                                        NaN     0.0     NaN   \nYou Belong To Me                                       NaN     NaN     NaN   \nZen and the Art of Motorcycle Maintenance: An I...     NaN     0.0     NaN   \nZoya                                                   NaN     NaN     NaN   \n\nuser_id                                             277478  277639  278418  \ntitle                                                                       \n1984                                                   NaN     NaN     NaN  \n1st to Die: A Novel                                    NaN     NaN     NaN  \n2nd Chance                                             NaN     0.0     NaN  \n4 Blondes                                              NaN     NaN     NaN  \n84 Charing Cross Road                                  NaN     NaN     NaN  \n...                                                    ...     ...     ...  \nWuthering Heights                                      NaN     NaN     NaN  \nYear of Wonders                                        NaN     NaN     NaN  \nYou Belong To Me                                       NaN     NaN     NaN  \nZen and the Art of Motorcycle Maintenance: An I...     NaN     NaN     NaN  \nZoya                                                   NaN     NaN     NaN  \n\n[739 rows x 888 columns]",
      "text/html": "<div>\n<style scoped>\n    .dataframe tbody tr th:only-of-type {\n        vertical-align: middle;\n    }\n\n    .dataframe tbody tr th {\n        vertical-align: top;\n    }\n\n    .dataframe thead th {\n        text-align: right;\n    }\n</style>\n<table border=\"1\" class=\"dataframe\">\n  <thead>\n    <tr style=\"text-align: right;\">\n      <th>user_id</th>\n      <th>254</th>\n      <th>2276</th>\n      <th>2766</th>\n      <th>2977</th>\n      <th>3363</th>\n      <th>3757</th>\n      <th>4017</th>\n      <th>4385</th>\n      <th>6242</th>\n      <th>6251</th>\n      <th>...</th>\n      <th>274004</th>\n      <th>274061</th>\n      <th>274301</th>\n      <th>274308</th>\n      <th>274808</th>\n      <th>275970</th>\n      <th>277427</th>\n      <th>277478</th>\n      <th>277639</th>\n      <th>278418</th>\n    </tr>\n    <tr>\n      <th>title</th>\n      <th></th>\n      <th></th>\n      <th></th>\n      <th></th>\n      <th></th>\n      <th></th>\n      <th></th>\n      <th></th>\n      <th></th>\n      <th></th>\n      <th></th>\n      <th></th>\n      <th></th>\n      <th></th>\n      <th></th>\n      <th></th>\n      <th></th>\n      <th></th>\n      <th></th>\n      <th></th>\n      <th></th>\n    </tr>\n  </thead>\n  <tbody>\n    <tr>\n      <th>1984</th>\n      <td>9.0</td>\n      <td>NaN</td>\n      <td>NaN</td>\n      <td>NaN</td>\n      <td>NaN</td>\n      <td>NaN</td>\n      <td>NaN</td>\n      <td>NaN</td>\n      <td>NaN</td>\n      <td>NaN</td>\n      <td>...</td>\n      <td>NaN</td>\n      <td>NaN</td>\n      <td>NaN</td>\n      <td>NaN</td>\n      <td>NaN</td>\n      <td>0.0</td>\n      <td>NaN</td>\n      <td>NaN</td>\n      <td>NaN</td>\n      <td>NaN</td>\n    </tr>\n    <tr>\n      <th>1st to Die: A Novel</th>\n      <td>NaN</td>\n      <td>NaN</td>\n      <td>NaN</td>\n      <td>NaN</td>\n      <td>NaN</td>\n      <td>NaN</td>\n      <td>NaN</td>\n      <td>NaN</td>\n      <td>NaN</td>\n      <td>NaN</td>\n      <td>...</td>\n      <td>NaN</td>\n      <td>NaN</td>\n      <td>NaN</td>\n      <td>NaN</td>\n      <td>NaN</td>\n      <td>NaN</td>\n      <td>NaN</td>\n      <td>NaN</td>\n      <td>NaN</td>\n      <td>NaN</td>\n    </tr>\n    <tr>\n      <th>2nd Chance</th>\n      <td>NaN</td>\n      <td>10.0</td>\n      <td>NaN</td>\n      <td>NaN</td>\n      <td>NaN</td>\n      <td>NaN</td>\n      <td>NaN</td>\n      <td>NaN</td>\n      <td>NaN</td>\n      <td>NaN</td>\n      <td>...</td>\n      <td>NaN</td>\n      <td>NaN</td>\n      <td>NaN</td>\n      <td>0.0</td>\n      <td>NaN</td>\n      <td>NaN</td>\n      <td>NaN</td>\n      <td>NaN</td>\n      <td>0.0</td>\n      <td>NaN</td>\n    </tr>\n    <tr>\n      <th>4 Blondes</th>\n      <td>NaN</td>\n      <td>NaN</td>\n      <td>NaN</td>\n      <td>NaN</td>\n      <td>NaN</td>\n      <td>NaN</td>\n      <td>NaN</td>\n      <td>NaN</td>\n      <td>NaN</td>\n      <td>0.0</td>\n      <td>...</td>\n      <td>NaN</td>\n      <td>NaN</td>\n      <td>NaN</td>\n      <td>NaN</td>\n      <td>NaN</td>\n      <td>NaN</td>\n      <td>NaN</td>\n      <td>NaN</td>\n      <td>NaN</td>\n      <td>NaN</td>\n    </tr>\n    <tr>\n      <th>84 Charing Cross Road</th>\n      <td>NaN</td>\n      <td>NaN</td>\n      <td>NaN</td>\n      <td>NaN</td>\n      <td>NaN</td>\n      <td>NaN</td>\n      <td>NaN</td>\n      <td>NaN</td>\n      <td>NaN</td>\n      <td>NaN</td>\n      <td>...</td>\n      <td>NaN</td>\n      <td>NaN</td>\n      <td>NaN</td>\n      <td>NaN</td>\n      <td>NaN</td>\n      <td>10.0</td>\n      <td>NaN</td>\n      <td>NaN</td>\n      <td>NaN</td>\n      <td>NaN</td>\n    </tr>\n    <tr>\n      <th>...</th>\n      <td>...</td>\n      <td>...</td>\n      <td>...</td>\n      <td>...</td>\n      <td>...</td>\n      <td>...</td>\n      <td>...</td>\n      <td>...</td>\n      <td>...</td>\n      <td>...</td>\n      <td>...</td>\n      <td>...</td>\n      <td>...</td>\n      <td>...</td>\n      <td>...</td>\n      <td>...</td>\n      <td>...</td>\n      <td>...</td>\n      <td>...</td>\n      <td>...</td>\n      <td>...</td>\n    </tr>\n    <tr>\n      <th>Wuthering Heights</th>\n      <td>NaN</td>\n      <td>NaN</td>\n      <td>NaN</td>\n      <td>NaN</td>\n      <td>NaN</td>\n      <td>NaN</td>\n      <td>NaN</td>\n      <td>NaN</td>\n      <td>NaN</td>\n      <td>NaN</td>\n      <td>...</td>\n      <td>NaN</td>\n      <td>NaN</td>\n      <td>NaN</td>\n      <td>0.0</td>\n      <td>NaN</td>\n      <td>NaN</td>\n      <td>NaN</td>\n      <td>NaN</td>\n      <td>NaN</td>\n      <td>NaN</td>\n    </tr>\n    <tr>\n      <th>Year of Wonders</th>\n      <td>NaN</td>\n      <td>NaN</td>\n      <td>NaN</td>\n      <td>7.0</td>\n      <td>NaN</td>\n      <td>NaN</td>\n      <td>NaN</td>\n      <td>NaN</td>\n      <td>7.0</td>\n      <td>NaN</td>\n      <td>...</td>\n      <td>NaN</td>\n      <td>NaN</td>\n      <td>NaN</td>\n      <td>NaN</td>\n      <td>NaN</td>\n      <td>0.0</td>\n      <td>NaN</td>\n      <td>NaN</td>\n      <td>NaN</td>\n      <td>NaN</td>\n    </tr>\n    <tr>\n      <th>You Belong To Me</th>\n      <td>NaN</td>\n      <td>NaN</td>\n      <td>NaN</td>\n      <td>NaN</td>\n      <td>NaN</td>\n      <td>NaN</td>\n      <td>NaN</td>\n      <td>NaN</td>\n      <td>NaN</td>\n      <td>NaN</td>\n      <td>...</td>\n      <td>NaN</td>\n      <td>NaN</td>\n      <td>NaN</td>\n      <td>NaN</td>\n      <td>NaN</td>\n      <td>NaN</td>\n      <td>NaN</td>\n      <td>NaN</td>\n      <td>NaN</td>\n      <td>NaN</td>\n    </tr>\n    <tr>\n      <th>Zen and the Art of Motorcycle Maintenance: An Inquiry into Values</th>\n      <td>NaN</td>\n      <td>NaN</td>\n      <td>NaN</td>\n      <td>NaN</td>\n      <td>0.0</td>\n      <td>NaN</td>\n      <td>NaN</td>\n      <td>NaN</td>\n      <td>NaN</td>\n      <td>0.0</td>\n      <td>...</td>\n      <td>NaN</td>\n      <td>NaN</td>\n      <td>NaN</td>\n      <td>NaN</td>\n      <td>NaN</td>\n      <td>0.0</td>\n      <td>NaN</td>\n      <td>NaN</td>\n      <td>NaN</td>\n      <td>NaN</td>\n    </tr>\n    <tr>\n      <th>Zoya</th>\n      <td>NaN</td>\n      <td>NaN</td>\n      <td>NaN</td>\n      <td>NaN</td>\n      <td>NaN</td>\n      <td>NaN</td>\n      <td>NaN</td>\n      <td>NaN</td>\n      <td>NaN</td>\n      <td>NaN</td>\n      <td>...</td>\n      <td>NaN</td>\n      <td>NaN</td>\n      <td>NaN</td>\n      <td>NaN</td>\n      <td>NaN</td>\n      <td>NaN</td>\n      <td>NaN</td>\n      <td>NaN</td>\n      <td>NaN</td>\n      <td>NaN</td>\n    </tr>\n  </tbody>\n</table>\n<p>739 rows × 888 columns</p>\n</div>"
     },
     "execution_count": 38,
     "metadata": {},
     "output_type": "execute_result"
    }
   ],
   "source": [
    "book_pivot"
   ]
  },
  {
   "cell_type": "code",
   "execution_count": 39,
   "id": "6d71eacf-0055-471a-b39d-8569752e32c0",
   "metadata": {
    "ExecuteTime": {
     "end_time": "2023-11-02T07:27:45.178779Z",
     "start_time": "2023-11-02T07:27:45.108545Z"
    }
   },
   "outputs": [
    {
     "data": {
      "text/plain": "(739, 888)"
     },
     "execution_count": 39,
     "metadata": {},
     "output_type": "execute_result"
    }
   ],
   "source": [
    "book_pivot.shape"
   ]
  },
  {
   "cell_type": "code",
   "execution_count": 40,
   "id": "dcad752c-5c7d-4d26-9084-e4970be845ef",
   "metadata": {
    "ExecuteTime": {
     "end_time": "2023-11-02T07:27:45.178997Z",
     "start_time": "2023-11-02T07:27:45.111256Z"
    }
   },
   "outputs": [],
   "source": [
    "book_pivot.fillna(0,inplace = True)"
   ]
  },
  {
   "cell_type": "code",
   "execution_count": 41,
   "id": "2b96753a-b4b5-4489-b3d7-6f0ea1dc0a09",
   "metadata": {
    "ExecuteTime": {
     "end_time": "2023-11-02T07:27:45.180995Z",
     "start_time": "2023-11-02T07:27:45.128302Z"
    }
   },
   "outputs": [
    {
     "data": {
      "text/plain": "user_id                                             254     2276    2766    \\\ntitle                                                                        \n1984                                                   9.0     0.0     0.0   \n1st to Die: A Novel                                    0.0     0.0     0.0   \n2nd Chance                                             0.0    10.0     0.0   \n4 Blondes                                              0.0     0.0     0.0   \n84 Charing Cross Road                                  0.0     0.0     0.0   \n...                                                    ...     ...     ...   \nWuthering Heights                                      0.0     0.0     0.0   \nYear of Wonders                                        0.0     0.0     0.0   \nYou Belong To Me                                       0.0     0.0     0.0   \nZen and the Art of Motorcycle Maintenance: An I...     0.0     0.0     0.0   \nZoya                                                   0.0     0.0     0.0   \n\nuser_id                                             2977    3363    3757    \\\ntitle                                                                        \n1984                                                   0.0     0.0     0.0   \n1st to Die: A Novel                                    0.0     0.0     0.0   \n2nd Chance                                             0.0     0.0     0.0   \n4 Blondes                                              0.0     0.0     0.0   \n84 Charing Cross Road                                  0.0     0.0     0.0   \n...                                                    ...     ...     ...   \nWuthering Heights                                      0.0     0.0     0.0   \nYear of Wonders                                        7.0     0.0     0.0   \nYou Belong To Me                                       0.0     0.0     0.0   \nZen and the Art of Motorcycle Maintenance: An I...     0.0     0.0     0.0   \nZoya                                                   0.0     0.0     0.0   \n\nuser_id                                             4017    4385    6242    \\\ntitle                                                                        \n1984                                                   0.0     0.0     0.0   \n1st to Die: A Novel                                    0.0     0.0     0.0   \n2nd Chance                                             0.0     0.0     0.0   \n4 Blondes                                              0.0     0.0     0.0   \n84 Charing Cross Road                                  0.0     0.0     0.0   \n...                                                    ...     ...     ...   \nWuthering Heights                                      0.0     0.0     0.0   \nYear of Wonders                                        0.0     0.0     7.0   \nYou Belong To Me                                       0.0     0.0     0.0   \nZen and the Art of Motorcycle Maintenance: An I...     0.0     0.0     0.0   \nZoya                                                   0.0     0.0     0.0   \n\nuser_id                                             6251    ...  274004  \\\ntitle                                                       ...           \n1984                                                   0.0  ...     0.0   \n1st to Die: A Novel                                    0.0  ...     0.0   \n2nd Chance                                             0.0  ...     0.0   \n4 Blondes                                              0.0  ...     0.0   \n84 Charing Cross Road                                  0.0  ...     0.0   \n...                                                    ...  ...     ...   \nWuthering Heights                                      0.0  ...     0.0   \nYear of Wonders                                        0.0  ...     0.0   \nYou Belong To Me                                       0.0  ...     0.0   \nZen and the Art of Motorcycle Maintenance: An I...     0.0  ...     0.0   \nZoya                                                   0.0  ...     0.0   \n\nuser_id                                             274061  274301  274308  \\\ntitle                                                                        \n1984                                                   0.0     0.0     0.0   \n1st to Die: A Novel                                    0.0     0.0     0.0   \n2nd Chance                                             0.0     0.0     0.0   \n4 Blondes                                              0.0     0.0     0.0   \n84 Charing Cross Road                                  0.0     0.0     0.0   \n...                                                    ...     ...     ...   \nWuthering Heights                                      0.0     0.0     0.0   \nYear of Wonders                                        0.0     0.0     0.0   \nYou Belong To Me                                       0.0     0.0     0.0   \nZen and the Art of Motorcycle Maintenance: An I...     0.0     0.0     0.0   \nZoya                                                   0.0     0.0     0.0   \n\nuser_id                                             274808  275970  277427  \\\ntitle                                                                        \n1984                                                   0.0     0.0     0.0   \n1st to Die: A Novel                                    0.0     0.0     0.0   \n2nd Chance                                             0.0     0.0     0.0   \n4 Blondes                                              0.0     0.0     0.0   \n84 Charing Cross Road                                  0.0    10.0     0.0   \n...                                                    ...     ...     ...   \nWuthering Heights                                      0.0     0.0     0.0   \nYear of Wonders                                        0.0     0.0     0.0   \nYou Belong To Me                                       0.0     0.0     0.0   \nZen and the Art of Motorcycle Maintenance: An I...     0.0     0.0     0.0   \nZoya                                                   0.0     0.0     0.0   \n\nuser_id                                             277478  277639  278418  \ntitle                                                                       \n1984                                                   0.0     0.0     0.0  \n1st to Die: A Novel                                    0.0     0.0     0.0  \n2nd Chance                                             0.0     0.0     0.0  \n4 Blondes                                              0.0     0.0     0.0  \n84 Charing Cross Road                                  0.0     0.0     0.0  \n...                                                    ...     ...     ...  \nWuthering Heights                                      0.0     0.0     0.0  \nYear of Wonders                                        0.0     0.0     0.0  \nYou Belong To Me                                       0.0     0.0     0.0  \nZen and the Art of Motorcycle Maintenance: An I...     0.0     0.0     0.0  \nZoya                                                   0.0     0.0     0.0  \n\n[739 rows x 888 columns]",
      "text/html": "<div>\n<style scoped>\n    .dataframe tbody tr th:only-of-type {\n        vertical-align: middle;\n    }\n\n    .dataframe tbody tr th {\n        vertical-align: top;\n    }\n\n    .dataframe thead th {\n        text-align: right;\n    }\n</style>\n<table border=\"1\" class=\"dataframe\">\n  <thead>\n    <tr style=\"text-align: right;\">\n      <th>user_id</th>\n      <th>254</th>\n      <th>2276</th>\n      <th>2766</th>\n      <th>2977</th>\n      <th>3363</th>\n      <th>3757</th>\n      <th>4017</th>\n      <th>4385</th>\n      <th>6242</th>\n      <th>6251</th>\n      <th>...</th>\n      <th>274004</th>\n      <th>274061</th>\n      <th>274301</th>\n      <th>274308</th>\n      <th>274808</th>\n      <th>275970</th>\n      <th>277427</th>\n      <th>277478</th>\n      <th>277639</th>\n      <th>278418</th>\n    </tr>\n    <tr>\n      <th>title</th>\n      <th></th>\n      <th></th>\n      <th></th>\n      <th></th>\n      <th></th>\n      <th></th>\n      <th></th>\n      <th></th>\n      <th></th>\n      <th></th>\n      <th></th>\n      <th></th>\n      <th></th>\n      <th></th>\n      <th></th>\n      <th></th>\n      <th></th>\n      <th></th>\n      <th></th>\n      <th></th>\n      <th></th>\n    </tr>\n  </thead>\n  <tbody>\n    <tr>\n      <th>1984</th>\n      <td>9.0</td>\n      <td>0.0</td>\n      <td>0.0</td>\n      <td>0.0</td>\n      <td>0.0</td>\n      <td>0.0</td>\n      <td>0.0</td>\n      <td>0.0</td>\n      <td>0.0</td>\n      <td>0.0</td>\n      <td>...</td>\n      <td>0.0</td>\n      <td>0.0</td>\n      <td>0.0</td>\n      <td>0.0</td>\n      <td>0.0</td>\n      <td>0.0</td>\n      <td>0.0</td>\n      <td>0.0</td>\n      <td>0.0</td>\n      <td>0.0</td>\n    </tr>\n    <tr>\n      <th>1st to Die: A Novel</th>\n      <td>0.0</td>\n      <td>0.0</td>\n      <td>0.0</td>\n      <td>0.0</td>\n      <td>0.0</td>\n      <td>0.0</td>\n      <td>0.0</td>\n      <td>0.0</td>\n      <td>0.0</td>\n      <td>0.0</td>\n      <td>...</td>\n      <td>0.0</td>\n      <td>0.0</td>\n      <td>0.0</td>\n      <td>0.0</td>\n      <td>0.0</td>\n      <td>0.0</td>\n      <td>0.0</td>\n      <td>0.0</td>\n      <td>0.0</td>\n      <td>0.0</td>\n    </tr>\n    <tr>\n      <th>2nd Chance</th>\n      <td>0.0</td>\n      <td>10.0</td>\n      <td>0.0</td>\n      <td>0.0</td>\n      <td>0.0</td>\n      <td>0.0</td>\n      <td>0.0</td>\n      <td>0.0</td>\n      <td>0.0</td>\n      <td>0.0</td>\n      <td>...</td>\n      <td>0.0</td>\n      <td>0.0</td>\n      <td>0.0</td>\n      <td>0.0</td>\n      <td>0.0</td>\n      <td>0.0</td>\n      <td>0.0</td>\n      <td>0.0</td>\n      <td>0.0</td>\n      <td>0.0</td>\n    </tr>\n    <tr>\n      <th>4 Blondes</th>\n      <td>0.0</td>\n      <td>0.0</td>\n      <td>0.0</td>\n      <td>0.0</td>\n      <td>0.0</td>\n      <td>0.0</td>\n      <td>0.0</td>\n      <td>0.0</td>\n      <td>0.0</td>\n      <td>0.0</td>\n      <td>...</td>\n      <td>0.0</td>\n      <td>0.0</td>\n      <td>0.0</td>\n      <td>0.0</td>\n      <td>0.0</td>\n      <td>0.0</td>\n      <td>0.0</td>\n      <td>0.0</td>\n      <td>0.0</td>\n      <td>0.0</td>\n    </tr>\n    <tr>\n      <th>84 Charing Cross Road</th>\n      <td>0.0</td>\n      <td>0.0</td>\n      <td>0.0</td>\n      <td>0.0</td>\n      <td>0.0</td>\n      <td>0.0</td>\n      <td>0.0</td>\n      <td>0.0</td>\n      <td>0.0</td>\n      <td>0.0</td>\n      <td>...</td>\n      <td>0.0</td>\n      <td>0.0</td>\n      <td>0.0</td>\n      <td>0.0</td>\n      <td>0.0</td>\n      <td>10.0</td>\n      <td>0.0</td>\n      <td>0.0</td>\n      <td>0.0</td>\n      <td>0.0</td>\n    </tr>\n    <tr>\n      <th>...</th>\n      <td>...</td>\n      <td>...</td>\n      <td>...</td>\n      <td>...</td>\n      <td>...</td>\n      <td>...</td>\n      <td>...</td>\n      <td>...</td>\n      <td>...</td>\n      <td>...</td>\n      <td>...</td>\n      <td>...</td>\n      <td>...</td>\n      <td>...</td>\n      <td>...</td>\n      <td>...</td>\n      <td>...</td>\n      <td>...</td>\n      <td>...</td>\n      <td>...</td>\n      <td>...</td>\n    </tr>\n    <tr>\n      <th>Wuthering Heights</th>\n      <td>0.0</td>\n      <td>0.0</td>\n      <td>0.0</td>\n      <td>0.0</td>\n      <td>0.0</td>\n      <td>0.0</td>\n      <td>0.0</td>\n      <td>0.0</td>\n      <td>0.0</td>\n      <td>0.0</td>\n      <td>...</td>\n      <td>0.0</td>\n      <td>0.0</td>\n      <td>0.0</td>\n      <td>0.0</td>\n      <td>0.0</td>\n      <td>0.0</td>\n      <td>0.0</td>\n      <td>0.0</td>\n      <td>0.0</td>\n      <td>0.0</td>\n    </tr>\n    <tr>\n      <th>Year of Wonders</th>\n      <td>0.0</td>\n      <td>0.0</td>\n      <td>0.0</td>\n      <td>7.0</td>\n      <td>0.0</td>\n      <td>0.0</td>\n      <td>0.0</td>\n      <td>0.0</td>\n      <td>7.0</td>\n      <td>0.0</td>\n      <td>...</td>\n      <td>0.0</td>\n      <td>0.0</td>\n      <td>0.0</td>\n      <td>0.0</td>\n      <td>0.0</td>\n      <td>0.0</td>\n      <td>0.0</td>\n      <td>0.0</td>\n      <td>0.0</td>\n      <td>0.0</td>\n    </tr>\n    <tr>\n      <th>You Belong To Me</th>\n      <td>0.0</td>\n      <td>0.0</td>\n      <td>0.0</td>\n      <td>0.0</td>\n      <td>0.0</td>\n      <td>0.0</td>\n      <td>0.0</td>\n      <td>0.0</td>\n      <td>0.0</td>\n      <td>0.0</td>\n      <td>...</td>\n      <td>0.0</td>\n      <td>0.0</td>\n      <td>0.0</td>\n      <td>0.0</td>\n      <td>0.0</td>\n      <td>0.0</td>\n      <td>0.0</td>\n      <td>0.0</td>\n      <td>0.0</td>\n      <td>0.0</td>\n    </tr>\n    <tr>\n      <th>Zen and the Art of Motorcycle Maintenance: An Inquiry into Values</th>\n      <td>0.0</td>\n      <td>0.0</td>\n      <td>0.0</td>\n      <td>0.0</td>\n      <td>0.0</td>\n      <td>0.0</td>\n      <td>0.0</td>\n      <td>0.0</td>\n      <td>0.0</td>\n      <td>0.0</td>\n      <td>...</td>\n      <td>0.0</td>\n      <td>0.0</td>\n      <td>0.0</td>\n      <td>0.0</td>\n      <td>0.0</td>\n      <td>0.0</td>\n      <td>0.0</td>\n      <td>0.0</td>\n      <td>0.0</td>\n      <td>0.0</td>\n    </tr>\n    <tr>\n      <th>Zoya</th>\n      <td>0.0</td>\n      <td>0.0</td>\n      <td>0.0</td>\n      <td>0.0</td>\n      <td>0.0</td>\n      <td>0.0</td>\n      <td>0.0</td>\n      <td>0.0</td>\n      <td>0.0</td>\n      <td>0.0</td>\n      <td>...</td>\n      <td>0.0</td>\n      <td>0.0</td>\n      <td>0.0</td>\n      <td>0.0</td>\n      <td>0.0</td>\n      <td>0.0</td>\n      <td>0.0</td>\n      <td>0.0</td>\n      <td>0.0</td>\n      <td>0.0</td>\n    </tr>\n  </tbody>\n</table>\n<p>739 rows × 888 columns</p>\n</div>"
     },
     "execution_count": 41,
     "metadata": {},
     "output_type": "execute_result"
    }
   ],
   "source": [
    "book_pivot"
   ]
  },
  {
   "cell_type": "code",
   "execution_count": 42,
   "id": "00759ad6-1905-43b4-abcc-3d31036c6143",
   "metadata": {
    "ExecuteTime": {
     "end_time": "2023-11-02T07:27:45.181964Z",
     "start_time": "2023-11-02T07:27:45.136927Z"
    }
   },
   "outputs": [],
   "source": [
    "from scipy.sparse import csr_matrix"
   ]
  },
  {
   "cell_type": "code",
   "execution_count": 43,
   "id": "f5086ad9-ce81-486f-8b86-54762fd5938b",
   "metadata": {
    "ExecuteTime": {
     "end_time": "2023-11-02T07:27:45.183194Z",
     "start_time": "2023-11-02T07:27:45.139362Z"
    }
   },
   "outputs": [],
   "source": [
    "book_sparse = csr_matrix(book_pivot)"
   ]
  },
  {
   "cell_type": "code",
   "execution_count": 44,
   "id": "c2e2c573-46ad-4c15-8975-8240a3442933",
   "metadata": {
    "ExecuteTime": {
     "end_time": "2023-11-02T07:27:45.183814Z",
     "start_time": "2023-11-02T07:27:45.147092Z"
    }
   },
   "outputs": [
    {
     "data": {
      "text/plain": "NearestNeighbors(algorithm='brute')",
      "text/html": "<style>#sk-container-id-1 {color: black;}#sk-container-id-1 pre{padding: 0;}#sk-container-id-1 div.sk-toggleable {background-color: white;}#sk-container-id-1 label.sk-toggleable__label {cursor: pointer;display: block;width: 100%;margin-bottom: 0;padding: 0.3em;box-sizing: border-box;text-align: center;}#sk-container-id-1 label.sk-toggleable__label-arrow:before {content: \"▸\";float: left;margin-right: 0.25em;color: #696969;}#sk-container-id-1 label.sk-toggleable__label-arrow:hover:before {color: black;}#sk-container-id-1 div.sk-estimator:hover label.sk-toggleable__label-arrow:before {color: black;}#sk-container-id-1 div.sk-toggleable__content {max-height: 0;max-width: 0;overflow: hidden;text-align: left;background-color: #f0f8ff;}#sk-container-id-1 div.sk-toggleable__content pre {margin: 0.2em;color: black;border-radius: 0.25em;background-color: #f0f8ff;}#sk-container-id-1 input.sk-toggleable__control:checked~div.sk-toggleable__content {max-height: 200px;max-width: 100%;overflow: auto;}#sk-container-id-1 input.sk-toggleable__control:checked~label.sk-toggleable__label-arrow:before {content: \"▾\";}#sk-container-id-1 div.sk-estimator input.sk-toggleable__control:checked~label.sk-toggleable__label {background-color: #d4ebff;}#sk-container-id-1 div.sk-label input.sk-toggleable__control:checked~label.sk-toggleable__label {background-color: #d4ebff;}#sk-container-id-1 input.sk-hidden--visually {border: 0;clip: rect(1px 1px 1px 1px);clip: rect(1px, 1px, 1px, 1px);height: 1px;margin: -1px;overflow: hidden;padding: 0;position: absolute;width: 1px;}#sk-container-id-1 div.sk-estimator {font-family: monospace;background-color: #f0f8ff;border: 1px dotted black;border-radius: 0.25em;box-sizing: border-box;margin-bottom: 0.5em;}#sk-container-id-1 div.sk-estimator:hover {background-color: #d4ebff;}#sk-container-id-1 div.sk-parallel-item::after {content: \"\";width: 100%;border-bottom: 1px solid gray;flex-grow: 1;}#sk-container-id-1 div.sk-label:hover label.sk-toggleable__label {background-color: #d4ebff;}#sk-container-id-1 div.sk-serial::before {content: \"\";position: absolute;border-left: 1px solid gray;box-sizing: border-box;top: 0;bottom: 0;left: 50%;z-index: 0;}#sk-container-id-1 div.sk-serial {display: flex;flex-direction: column;align-items: center;background-color: white;padding-right: 0.2em;padding-left: 0.2em;position: relative;}#sk-container-id-1 div.sk-item {position: relative;z-index: 1;}#sk-container-id-1 div.sk-parallel {display: flex;align-items: stretch;justify-content: center;background-color: white;position: relative;}#sk-container-id-1 div.sk-item::before, #sk-container-id-1 div.sk-parallel-item::before {content: \"\";position: absolute;border-left: 1px solid gray;box-sizing: border-box;top: 0;bottom: 0;left: 50%;z-index: -1;}#sk-container-id-1 div.sk-parallel-item {display: flex;flex-direction: column;z-index: 1;position: relative;background-color: white;}#sk-container-id-1 div.sk-parallel-item:first-child::after {align-self: flex-end;width: 50%;}#sk-container-id-1 div.sk-parallel-item:last-child::after {align-self: flex-start;width: 50%;}#sk-container-id-1 div.sk-parallel-item:only-child::after {width: 0;}#sk-container-id-1 div.sk-dashed-wrapped {border: 1px dashed gray;margin: 0 0.4em 0.5em 0.4em;box-sizing: border-box;padding-bottom: 0.4em;background-color: white;}#sk-container-id-1 div.sk-label label {font-family: monospace;font-weight: bold;display: inline-block;line-height: 1.2em;}#sk-container-id-1 div.sk-label-container {text-align: center;}#sk-container-id-1 div.sk-container {/* jupyter's `normalize.less` sets `[hidden] { display: none; }` but bootstrap.min.css set `[hidden] { display: none !important; }` so we also need the `!important` here to be able to override the default hidden behavior on the sphinx rendered scikit-learn.org. See: https://github.com/scikit-learn/scikit-learn/issues/21755 */display: inline-block !important;position: relative;}#sk-container-id-1 div.sk-text-repr-fallback {display: none;}</style><div id=\"sk-container-id-1\" class=\"sk-top-container\"><div class=\"sk-text-repr-fallback\"><pre>NearestNeighbors(algorithm=&#x27;brute&#x27;)</pre><b>In a Jupyter environment, please rerun this cell to show the HTML representation or trust the notebook. <br />On GitHub, the HTML representation is unable to render, please try loading this page with nbviewer.org.</b></div><div class=\"sk-container\" hidden><div class=\"sk-item\"><div class=\"sk-estimator sk-toggleable\"><input class=\"sk-toggleable__control sk-hidden--visually\" id=\"sk-estimator-id-1\" type=\"checkbox\" checked><label for=\"sk-estimator-id-1\" class=\"sk-toggleable__label sk-toggleable__label-arrow\">NearestNeighbors</label><div class=\"sk-toggleable__content\"><pre>NearestNeighbors(algorithm=&#x27;brute&#x27;)</pre></div></div></div></div></div>"
     },
     "execution_count": 44,
     "metadata": {},
     "output_type": "execute_result"
    }
   ],
   "source": [
    "from sklearn.neighbors import NearestNeighbors\n",
    "model = NearestNeighbors(algorithm='brute')\n",
    "model.fit(book_sparse)"
   ]
  },
  {
   "cell_type": "code",
   "execution_count": 45,
   "id": "97f07cda-9941-4a00-85d6-c9c660c37236",
   "metadata": {
    "ExecuteTime": {
     "end_time": "2023-11-02T07:32:03.373401Z",
     "start_time": "2023-11-02T07:32:03.347164Z"
    }
   },
   "outputs": [
    {
     "data": {
      "text/plain": "NearestNeighbors(algorithm='brute')",
      "text/html": "<style>#sk-container-id-2 {color: black;}#sk-container-id-2 pre{padding: 0;}#sk-container-id-2 div.sk-toggleable {background-color: white;}#sk-container-id-2 label.sk-toggleable__label {cursor: pointer;display: block;width: 100%;margin-bottom: 0;padding: 0.3em;box-sizing: border-box;text-align: center;}#sk-container-id-2 label.sk-toggleable__label-arrow:before {content: \"▸\";float: left;margin-right: 0.25em;color: #696969;}#sk-container-id-2 label.sk-toggleable__label-arrow:hover:before {color: black;}#sk-container-id-2 div.sk-estimator:hover label.sk-toggleable__label-arrow:before {color: black;}#sk-container-id-2 div.sk-toggleable__content {max-height: 0;max-width: 0;overflow: hidden;text-align: left;background-color: #f0f8ff;}#sk-container-id-2 div.sk-toggleable__content pre {margin: 0.2em;color: black;border-radius: 0.25em;background-color: #f0f8ff;}#sk-container-id-2 input.sk-toggleable__control:checked~div.sk-toggleable__content {max-height: 200px;max-width: 100%;overflow: auto;}#sk-container-id-2 input.sk-toggleable__control:checked~label.sk-toggleable__label-arrow:before {content: \"▾\";}#sk-container-id-2 div.sk-estimator input.sk-toggleable__control:checked~label.sk-toggleable__label {background-color: #d4ebff;}#sk-container-id-2 div.sk-label input.sk-toggleable__control:checked~label.sk-toggleable__label {background-color: #d4ebff;}#sk-container-id-2 input.sk-hidden--visually {border: 0;clip: rect(1px 1px 1px 1px);clip: rect(1px, 1px, 1px, 1px);height: 1px;margin: -1px;overflow: hidden;padding: 0;position: absolute;width: 1px;}#sk-container-id-2 div.sk-estimator {font-family: monospace;background-color: #f0f8ff;border: 1px dotted black;border-radius: 0.25em;box-sizing: border-box;margin-bottom: 0.5em;}#sk-container-id-2 div.sk-estimator:hover {background-color: #d4ebff;}#sk-container-id-2 div.sk-parallel-item::after {content: \"\";width: 100%;border-bottom: 1px solid gray;flex-grow: 1;}#sk-container-id-2 div.sk-label:hover label.sk-toggleable__label {background-color: #d4ebff;}#sk-container-id-2 div.sk-serial::before {content: \"\";position: absolute;border-left: 1px solid gray;box-sizing: border-box;top: 0;bottom: 0;left: 50%;z-index: 0;}#sk-container-id-2 div.sk-serial {display: flex;flex-direction: column;align-items: center;background-color: white;padding-right: 0.2em;padding-left: 0.2em;position: relative;}#sk-container-id-2 div.sk-item {position: relative;z-index: 1;}#sk-container-id-2 div.sk-parallel {display: flex;align-items: stretch;justify-content: center;background-color: white;position: relative;}#sk-container-id-2 div.sk-item::before, #sk-container-id-2 div.sk-parallel-item::before {content: \"\";position: absolute;border-left: 1px solid gray;box-sizing: border-box;top: 0;bottom: 0;left: 50%;z-index: -1;}#sk-container-id-2 div.sk-parallel-item {display: flex;flex-direction: column;z-index: 1;position: relative;background-color: white;}#sk-container-id-2 div.sk-parallel-item:first-child::after {align-self: flex-end;width: 50%;}#sk-container-id-2 div.sk-parallel-item:last-child::after {align-self: flex-start;width: 50%;}#sk-container-id-2 div.sk-parallel-item:only-child::after {width: 0;}#sk-container-id-2 div.sk-dashed-wrapped {border: 1px dashed gray;margin: 0 0.4em 0.5em 0.4em;box-sizing: border-box;padding-bottom: 0.4em;background-color: white;}#sk-container-id-2 div.sk-label label {font-family: monospace;font-weight: bold;display: inline-block;line-height: 1.2em;}#sk-container-id-2 div.sk-label-container {text-align: center;}#sk-container-id-2 div.sk-container {/* jupyter's `normalize.less` sets `[hidden] { display: none; }` but bootstrap.min.css set `[hidden] { display: none !important; }` so we also need the `!important` here to be able to override the default hidden behavior on the sphinx rendered scikit-learn.org. See: https://github.com/scikit-learn/scikit-learn/issues/21755 */display: inline-block !important;position: relative;}#sk-container-id-2 div.sk-text-repr-fallback {display: none;}</style><div id=\"sk-container-id-2\" class=\"sk-top-container\"><div class=\"sk-text-repr-fallback\"><pre>NearestNeighbors(algorithm=&#x27;brute&#x27;)</pre><b>In a Jupyter environment, please rerun this cell to show the HTML representation or trust the notebook. <br />On GitHub, the HTML representation is unable to render, please try loading this page with nbviewer.org.</b></div><div class=\"sk-container\" hidden><div class=\"sk-item\"><div class=\"sk-estimator sk-toggleable\"><input class=\"sk-toggleable__control sk-hidden--visually\" id=\"sk-estimator-id-2\" type=\"checkbox\" checked><label for=\"sk-estimator-id-2\" class=\"sk-toggleable__label sk-toggleable__label-arrow\">NearestNeighbors</label><div class=\"sk-toggleable__content\"><pre>NearestNeighbors(algorithm=&#x27;brute&#x27;)</pre></div></div></div></div></div>"
     },
     "execution_count": 45,
     "metadata": {},
     "output_type": "execute_result"
    }
   ],
   "source": [
    "model.fit(book_sparse)"
   ]
  },
  {
   "cell_type": "code",
   "execution_count": 46,
   "outputs": [],
   "source": [
    "distance ,suggession = model.kneighbors(book_pivot.iloc[237,:].values.reshape(1,-1),n_neighbors=6)"
   ],
   "metadata": {
    "collapsed": false,
    "ExecuteTime": {
     "end_time": "2023-11-02T07:33:39.846229Z",
     "start_time": "2023-11-02T07:33:39.654161Z"
    }
   },
   "id": "fefdf27111b612a9"
  },
  {
   "cell_type": "code",
   "execution_count": 47,
   "outputs": [
    {
     "data": {
      "text/plain": "array([[ 0.        , 61.20457499, 63.4428877 , 68.47627326, 68.69497798,\n        69.16646586]])"
     },
     "execution_count": 47,
     "metadata": {},
     "output_type": "execute_result"
    }
   ],
   "source": [
    "distance"
   ],
   "metadata": {
    "collapsed": false,
    "ExecuteTime": {
     "end_time": "2023-11-02T07:33:52.107518Z",
     "start_time": "2023-11-02T07:33:52.086169Z"
    }
   },
   "id": "94ccaaa8a1812958"
  },
  {
   "cell_type": "code",
   "execution_count": 48,
   "outputs": [
    {
     "data": {
      "text/plain": "array([[237, 239, 238, 534, 183, 686]])"
     },
     "execution_count": 48,
     "metadata": {},
     "output_type": "execute_result"
    }
   ],
   "source": [
    "suggession"
   ],
   "metadata": {
    "collapsed": false,
    "ExecuteTime": {
     "end_time": "2023-11-02T07:34:28.207058Z",
     "start_time": "2023-11-02T07:34:28.180054Z"
    }
   },
   "id": "941d47ab29b62312"
  },
  {
   "cell_type": "code",
   "execution_count": 65,
   "outputs": [
    {
     "name": "stdout",
     "output_type": "stream",
     "text": [
      "[237 239 238 534 183 686]\n",
      "Index(['Harry Potter and the Goblet of Fire (Book 4)',\n",
      "       'Harry Potter and the Prisoner of Azkaban (Book 3)',\n",
      "       'Harry Potter and the Order of the Phoenix (Book 5)',\n",
      "       'The Cradle Will Fall', 'Exclusive', 'Tough Cookie'],\n",
      "      dtype='object', name='title')\n"
     ]
    }
   ],
   "source": [
    "for i in range(len(suggession)):\n",
    "    print(book_pivot.index[suggession[i]])"
   ],
   "metadata": {
    "collapsed": false,
    "ExecuteTime": {
     "end_time": "2023-11-02T07:42:01.793258Z",
     "start_time": "2023-11-02T07:42:01.777251Z"
    }
   },
   "id": "9ffa7b8a6439e198"
  },
  {
   "cell_type": "code",
   "execution_count": 66,
   "outputs": [
    {
     "data": {
      "text/plain": "'4 Blondes'"
     },
     "execution_count": 66,
     "metadata": {},
     "output_type": "execute_result"
    }
   ],
   "source": [
    "book_pivot.index[3]"
   ],
   "metadata": {
    "collapsed": false,
    "ExecuteTime": {
     "end_time": "2023-11-02T07:44:17.343970Z",
     "start_time": "2023-11-02T07:44:17.337227Z"
    }
   },
   "id": "76fd84dc433fde31"
  },
  {
   "cell_type": "code",
   "execution_count": 67,
   "outputs": [
    {
     "data": {
      "text/plain": "Index(['1984', '1st to Die: A Novel', '2nd Chance', '4 Blondes',\n       '84 Charing Cross Road', 'A Bend in the Road', 'A Case of Need',\n       'A Civil Action', 'A Cry In The Night', 'A Darkness More Than Night',\n       ...\n       'Winter Moon', 'Winter Solstice', 'Wish You Well', 'Without Remorse',\n       'Wizard and Glass (The Dark Tower, Book 4)', 'Wuthering Heights',\n       'Year of Wonders', 'You Belong To Me',\n       'Zen and the Art of Motorcycle Maintenance: An Inquiry into Values',\n       'Zoya'],\n      dtype='object', name='title', length=739)"
     },
     "execution_count": 67,
     "metadata": {},
     "output_type": "execute_result"
    }
   ],
   "source": [
    "book_pivot.index"
   ],
   "metadata": {
    "collapsed": false,
    "ExecuteTime": {
     "end_time": "2023-11-02T07:44:26.366825Z",
     "start_time": "2023-11-02T07:44:26.343593Z"
    }
   },
   "id": "b096a2ed94e28ddc"
  },
  {
   "cell_type": "code",
   "execution_count": 68,
   "outputs": [],
   "source": [
    "book_name = book_pivot.index"
   ],
   "metadata": {
    "collapsed": false,
    "ExecuteTime": {
     "end_time": "2023-11-02T07:44:59.964807Z",
     "start_time": "2023-11-02T07:44:59.934606Z"
    }
   },
   "id": "117aa3eade26b25b"
  },
  {
   "cell_type": "code",
   "execution_count": 69,
   "outputs": [
    {
     "data": {
      "text/plain": "Index(['1984', '1st to Die: A Novel', '2nd Chance', '4 Blondes',\n       '84 Charing Cross Road', 'A Bend in the Road', 'A Case of Need',\n       'A Civil Action', 'A Cry In The Night', 'A Darkness More Than Night',\n       ...\n       'Winter Moon', 'Winter Solstice', 'Wish You Well', 'Without Remorse',\n       'Wizard and Glass (The Dark Tower, Book 4)', 'Wuthering Heights',\n       'Year of Wonders', 'You Belong To Me',\n       'Zen and the Art of Motorcycle Maintenance: An Inquiry into Values',\n       'Zoya'],\n      dtype='object', name='title', length=739)"
     },
     "execution_count": 69,
     "metadata": {},
     "output_type": "execute_result"
    }
   ],
   "source": [
    "book_name"
   ],
   "metadata": {
    "collapsed": false,
    "ExecuteTime": {
     "end_time": "2023-11-02T07:45:05.618566Z",
     "start_time": "2023-11-02T07:45:05.594106Z"
    }
   },
   "id": "e967368b56733e07"
  },
  {
   "cell_type": "code",
   "execution_count": 72,
   "outputs": [],
   "source": [
    "import pickle\n",
    "pickle.dump (model, open( 'artifacts/model.pkl', 'wb'))\n",
    "pickle.dump(book_name, open( 'artifacts/books_name.pkl', 'wb'))\n",
    "pickle.dump(final_rating,open('artifacts/final_rating.pkl', 'wb'))\n",
    "pickle.dump(book_pivot,open('artifacts/book_pivot.pkl', 'wb'))\n"
   ],
   "metadata": {
    "collapsed": false,
    "ExecuteTime": {
     "end_time": "2023-11-02T07:50:39.952601Z",
     "start_time": "2023-11-02T07:50:39.931623Z"
    }
   },
   "id": "685ba7556fb50e38"
  },
  {
   "cell_type": "code",
   "execution_count": 78,
   "outputs": [],
   "source": [
    "import numpy as np\n",
    "def recommend_book(book_name) :\n",
    "    book_id = np.where(book_pivot.index == book_name)[0][0]\n",
    "    distance ,suggestion = model.kneighbors(book_pivot.iloc[book_id,:].values.reshape(1,-1),n_neighbors=6)\n",
    "    for i in range(len(suggestion)):\n",
    "        books = book_pivot.index[suggestion[i]]\n",
    "        for j in books:\n",
    "            print(j)"
   ],
   "metadata": {
    "collapsed": false,
    "ExecuteTime": {
     "end_time": "2023-11-02T07:59:35.990993Z",
     "start_time": "2023-11-02T07:59:35.975383Z"
    }
   },
   "id": "b55a2d5ebc0de4f1"
  },
  {
   "cell_type": "code",
   "execution_count": 80,
   "outputs": [
    {
     "name": "stdout",
     "output_type": "stream",
     "text": [
      "2nd Chance\n",
      "The Next Accident\n",
      "Exclusive\n",
      "The Ghost\n",
      "Unspeakable\n",
      "Last Man Standing\n"
     ]
    }
   ],
   "source": [
    "book_name = '2nd Chance'\n",
    "recommend_book(book_name)"
   ],
   "metadata": {
    "collapsed": false,
    "ExecuteTime": {
     "end_time": "2023-11-02T08:01:15.065322Z",
     "start_time": "2023-11-02T08:01:15.054509Z"
    }
   },
   "id": "1f07e0a1992a32b8"
  },
  {
   "cell_type": "code",
   "execution_count": 81,
   "outputs": [
    {
     "data": {
      "text/plain": "        user_id        ISBN  rating  \\\n0        277427  002542730X      10   \n1          3363  002542730X       0   \n2         11676  002542730X       6   \n3         12538  002542730X      10   \n4         13552  002542730X       0   \n...         ...         ...     ...   \n236213   255489  0553579983       7   \n236214   256407  0553579983       0   \n236215   257204  0553579983       0   \n236216   261829  0553579983       0   \n236217   273979  0553579983       0   \n\n                                                    title             author  \\\n0       Politically Correct Bedtime Stories: Modern Ta...  James Finn Garner   \n1       Politically Correct Bedtime Stories: Modern Ta...  James Finn Garner   \n2       Politically Correct Bedtime Stories: Modern Ta...  James Finn Garner   \n3       Politically Correct Bedtime Stories: Modern Ta...  James Finn Garner   \n4       Politically Correct Bedtime Stories: Modern Ta...  James Finn Garner   \n...                                                   ...                ...   \n236213                                   And Then You Die      Iris Johansen   \n236214                                   And Then You Die      Iris Johansen   \n236215                                   And Then You Die      Iris Johansen   \n236216                                   And Then You Die      Iris Johansen   \n236217                                   And Then You Die      Iris Johansen   \n\n        year                  publisher  \\\n0       1994  John Wiley &amp; Sons Inc   \n1       1994  John Wiley &amp; Sons Inc   \n2       1994  John Wiley &amp; Sons Inc   \n3       1994  John Wiley &amp; Sons Inc   \n4       1994  John Wiley &amp; Sons Inc   \n...      ...                        ...   \n236213  1998                     Bantam   \n236214  1998                     Bantam   \n236215  1998                     Bantam   \n236216  1998                     Bantam   \n236217  1998                     Bantam   \n\n                                                image_url  num_of_rating  \n0       http://images.amazon.com/images/P/002542730X.0...             82  \n1       http://images.amazon.com/images/P/002542730X.0...             82  \n2       http://images.amazon.com/images/P/002542730X.0...             82  \n3       http://images.amazon.com/images/P/002542730X.0...             82  \n4       http://images.amazon.com/images/P/002542730X.0...             82  \n...                                                   ...            ...  \n236213  http://images.amazon.com/images/P/0553579983.0...             50  \n236214  http://images.amazon.com/images/P/0553579983.0...             50  \n236215  http://images.amazon.com/images/P/0553579983.0...             50  \n236216  http://images.amazon.com/images/P/0553579983.0...             50  \n236217  http://images.amazon.com/images/P/0553579983.0...             50  \n\n[59608 rows x 9 columns]",
      "text/html": "<div>\n<style scoped>\n    .dataframe tbody tr th:only-of-type {\n        vertical-align: middle;\n    }\n\n    .dataframe tbody tr th {\n        vertical-align: top;\n    }\n\n    .dataframe thead th {\n        text-align: right;\n    }\n</style>\n<table border=\"1\" class=\"dataframe\">\n  <thead>\n    <tr style=\"text-align: right;\">\n      <th></th>\n      <th>user_id</th>\n      <th>ISBN</th>\n      <th>rating</th>\n      <th>title</th>\n      <th>author</th>\n      <th>year</th>\n      <th>publisher</th>\n      <th>image_url</th>\n      <th>num_of_rating</th>\n    </tr>\n  </thead>\n  <tbody>\n    <tr>\n      <th>0</th>\n      <td>277427</td>\n      <td>002542730X</td>\n      <td>10</td>\n      <td>Politically Correct Bedtime Stories: Modern Ta...</td>\n      <td>James Finn Garner</td>\n      <td>1994</td>\n      <td>John Wiley &amp;amp; Sons Inc</td>\n      <td>http://images.amazon.com/images/P/002542730X.0...</td>\n      <td>82</td>\n    </tr>\n    <tr>\n      <th>1</th>\n      <td>3363</td>\n      <td>002542730X</td>\n      <td>0</td>\n      <td>Politically Correct Bedtime Stories: Modern Ta...</td>\n      <td>James Finn Garner</td>\n      <td>1994</td>\n      <td>John Wiley &amp;amp; Sons Inc</td>\n      <td>http://images.amazon.com/images/P/002542730X.0...</td>\n      <td>82</td>\n    </tr>\n    <tr>\n      <th>2</th>\n      <td>11676</td>\n      <td>002542730X</td>\n      <td>6</td>\n      <td>Politically Correct Bedtime Stories: Modern Ta...</td>\n      <td>James Finn Garner</td>\n      <td>1994</td>\n      <td>John Wiley &amp;amp; Sons Inc</td>\n      <td>http://images.amazon.com/images/P/002542730X.0...</td>\n      <td>82</td>\n    </tr>\n    <tr>\n      <th>3</th>\n      <td>12538</td>\n      <td>002542730X</td>\n      <td>10</td>\n      <td>Politically Correct Bedtime Stories: Modern Ta...</td>\n      <td>James Finn Garner</td>\n      <td>1994</td>\n      <td>John Wiley &amp;amp; Sons Inc</td>\n      <td>http://images.amazon.com/images/P/002542730X.0...</td>\n      <td>82</td>\n    </tr>\n    <tr>\n      <th>4</th>\n      <td>13552</td>\n      <td>002542730X</td>\n      <td>0</td>\n      <td>Politically Correct Bedtime Stories: Modern Ta...</td>\n      <td>James Finn Garner</td>\n      <td>1994</td>\n      <td>John Wiley &amp;amp; Sons Inc</td>\n      <td>http://images.amazon.com/images/P/002542730X.0...</td>\n      <td>82</td>\n    </tr>\n    <tr>\n      <th>...</th>\n      <td>...</td>\n      <td>...</td>\n      <td>...</td>\n      <td>...</td>\n      <td>...</td>\n      <td>...</td>\n      <td>...</td>\n      <td>...</td>\n      <td>...</td>\n    </tr>\n    <tr>\n      <th>236213</th>\n      <td>255489</td>\n      <td>0553579983</td>\n      <td>7</td>\n      <td>And Then You Die</td>\n      <td>Iris Johansen</td>\n      <td>1998</td>\n      <td>Bantam</td>\n      <td>http://images.amazon.com/images/P/0553579983.0...</td>\n      <td>50</td>\n    </tr>\n    <tr>\n      <th>236214</th>\n      <td>256407</td>\n      <td>0553579983</td>\n      <td>0</td>\n      <td>And Then You Die</td>\n      <td>Iris Johansen</td>\n      <td>1998</td>\n      <td>Bantam</td>\n      <td>http://images.amazon.com/images/P/0553579983.0...</td>\n      <td>50</td>\n    </tr>\n    <tr>\n      <th>236215</th>\n      <td>257204</td>\n      <td>0553579983</td>\n      <td>0</td>\n      <td>And Then You Die</td>\n      <td>Iris Johansen</td>\n      <td>1998</td>\n      <td>Bantam</td>\n      <td>http://images.amazon.com/images/P/0553579983.0...</td>\n      <td>50</td>\n    </tr>\n    <tr>\n      <th>236216</th>\n      <td>261829</td>\n      <td>0553579983</td>\n      <td>0</td>\n      <td>And Then You Die</td>\n      <td>Iris Johansen</td>\n      <td>1998</td>\n      <td>Bantam</td>\n      <td>http://images.amazon.com/images/P/0553579983.0...</td>\n      <td>50</td>\n    </tr>\n    <tr>\n      <th>236217</th>\n      <td>273979</td>\n      <td>0553579983</td>\n      <td>0</td>\n      <td>And Then You Die</td>\n      <td>Iris Johansen</td>\n      <td>1998</td>\n      <td>Bantam</td>\n      <td>http://images.amazon.com/images/P/0553579983.0...</td>\n      <td>50</td>\n    </tr>\n  </tbody>\n</table>\n<p>59608 rows × 9 columns</p>\n</div>"
     },
     "execution_count": 81,
     "metadata": {},
     "output_type": "execute_result"
    }
   ],
   "source": [
    "final_rating"
   ],
   "metadata": {
    "collapsed": false,
    "ExecuteTime": {
     "end_time": "2023-11-02T10:04:17.895538Z",
     "start_time": "2023-11-02T10:04:17.873729Z"
    }
   },
   "id": "ace709506301468c"
  },
  {
   "cell_type": "code",
   "execution_count": null,
   "outputs": [],
   "source": [],
   "metadata": {
    "collapsed": false
   },
   "id": "1fff3dc7213d0903"
  }
 ],
 "metadata": {
  "kernelspec": {
   "display_name": "Python 3 (ipykernel)",
   "language": "python",
   "name": "python3"
  },
  "language_info": {
   "codemirror_mode": {
    "name": "ipython",
    "version": 3
   },
   "file_extension": ".py",
   "mimetype": "text/x-python",
   "name": "python",
   "nbconvert_exporter": "python",
   "pygments_lexer": "ipython3",
   "version": "3.9.6"
  }
 },
 "nbformat": 4,
 "nbformat_minor": 5
}
